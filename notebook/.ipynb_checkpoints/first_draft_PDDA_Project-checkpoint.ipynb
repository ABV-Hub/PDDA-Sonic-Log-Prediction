{
  "nbformat": 4,
  "nbformat_minor": 0,
  "metadata": {
    "colab": {
      "name": "first_draft PDDA Project.ipynb",
      "provenance": [],
      "collapsed_sections": []
    },
    "kernelspec": {
      "name": "python3",
      "display_name": "Python 3"
    }
  },
  "cells": [
    {
      "cell_type": "code",
      "metadata": {
        "id": "IXDxuQ-brWWE",
        "colab_type": "code",
        "outputId": "77ffb97f-dbc1-4a0d-a17f-1d52dc170c53",
        "colab": {
          "base_uri": "https://localhost:8080/",
          "height": 71
        }
      },
      "source": [
        "import pandas as pd\n",
        "import matplotlib.pyplot as plt\n",
        "from sklearn.impute import SimpleImputer\n",
        "import numpy as np\n",
        "import seaborn as sns\n",
        "from sklearn.preprocessing import StandardScaler,MinMaxScaler\n",
        "from xgboost import XGBRegressor\n",
        "from sklearn.model_selection import train_test_split\n",
        "from sklearn.multioutput import MultiOutputRegressor \n",
        "from sklearn.metrics import mean_squared_error, mean_absolute_error\n",
        "from sklearn.model_selection import GridSearchCV,RandomizedSearchCV\n",
        "from sklearn.metrics import classification_report, confusion_matrix\n",
        "from sklearn.experimental import enable_hist_gradient_boosting\n",
        "from sklearn.svm import SVR"
      ],
      "execution_count": 0,
      "outputs": [
        {
          "output_type": "stream",
          "text": [
            "/usr/local/lib/python3.6/dist-packages/statsmodels/tools/_testing.py:19: FutureWarning: pandas.util.testing is deprecated. Use the functions in the public API at pandas.testing instead.\n",
            "  import pandas.util.testing as tm\n"
          ],
          "name": "stderr"
        }
      ]
    },
    {
      "cell_type": "code",
      "metadata": {
        "id": "NklzWOSPE1vg",
        "colab_type": "code",
        "colab": {}
      },
      "source": [
        "\n",
        "na_values=['',' ','Nan','NaN',-999.0,-999]\n",
        "train=pd.read_csv('https://raw.githubusercontent.com/instabaines/PDDA/master/train.csv',na_values=na_values)\n",
        "test=pd.read_csv('https://raw.githubusercontent.com/instabaines/PDDA/master/real_result_20perc.csv',na_values=na_values)\n",
        "test2=pd.read_csv('https://raw.githubusercontent.com/instabaines/PDDA/master/test.csv',na_values=na_values)"
      ],
      "execution_count": 0,
      "outputs": []
    },
    {
      "cell_type": "code",
      "metadata": {
        "id": "engs-3q41anc",
        "colab_type": "code",
        "outputId": "20cb3075-fea9-4fec-a738-9a09cd46ce60",
        "colab": {
          "base_uri": "https://localhost:8080/",
          "height": 34
        }
      },
      "source": [
        "train=train.dropna(axis=0)\n",
        "test=test.dropna(axis=0)\n",
        "test.shape"
      ],
      "execution_count": 0,
      "outputs": [
        {
          "output_type": "execute_result",
          "data": {
            "text/plain": [
              "(2217, 9)"
            ]
          },
          "metadata": {
            "tags": []
          },
          "execution_count": 34
        }
      ]
    },
    {
      "cell_type": "code",
      "metadata": {
        "id": "vRS16V-TFCyg",
        "colab_type": "code",
        "colab": {}
      },
      "source": [
        "\n",
        "train['NGR']=0+(200-0)*(train['GR']-train['GR'].min())/(train['GR'].max()-train['GR'].min())\n",
        "train['IGR']=(train['NGR']-train['NGR'].min())/(train['NGR'].max()-train['NGR'].min())\n",
        "test['NGR']=0+(200-0)*(test['GR']-test['GR'].min())/(test['GR'].max()-test['GR'].min())\n",
        "test['IGR']=(test['NGR']-test['NGR'].min())/(test['NGR'].max()-test['NGR'].min())\n",
        "train['HRD']=np.log10(train['HRD'])\n",
        "test['HRD']=np.log10(test['HRD'])\n",
        "\n",
        "#del train['GR']\n",
        "train=train.dropna(axis=0)\n",
        "test=test.dropna(axis=0)\n"
      ],
      "execution_count": 0,
      "outputs": []
    },
    {
      "cell_type": "code",
      "metadata": {
        "id": "kGo6ZBzpRyfX",
        "colab_type": "code",
        "colab": {}
      },
      "source": [
        "test2['NGR']=0+(200-0)*(test2['GR']-test2['GR'].min())/(test2['GR'].max()-test2['GR'].min())\n",
        "test2['IGR']=(test2['NGR']-test2['NGR'].min())/(test2['NGR'].max()-test2['NGR'].min())\n",
        "\n",
        "test2['HRD']=np.log10(test2['HRD'])"
      ],
      "execution_count": 0,
      "outputs": []
    },
    {
      "cell_type": "code",
      "metadata": {
        "id": "DgPbp7AkHt5L",
        "colab_type": "code",
        "outputId": "8c4729b5-a1e7-4b73-f728-4f251385deaf",
        "colab": {
          "base_uri": "https://localhost:8080/",
          "height": 419
        }
      },
      "source": [
        "train"
      ],
      "execution_count": 0,
      "outputs": [
        {
          "output_type": "execute_result",
          "data": {
            "text/html": [
              "<div>\n",
              "<style scoped>\n",
              "    .dataframe tbody tr th:only-of-type {\n",
              "        vertical-align: middle;\n",
              "    }\n",
              "\n",
              "    .dataframe tbody tr th {\n",
              "        vertical-align: top;\n",
              "    }\n",
              "\n",
              "    .dataframe thead th {\n",
              "        text-align: right;\n",
              "    }\n",
              "</style>\n",
              "<table border=\"1\" class=\"dataframe\">\n",
              "  <thead>\n",
              "    <tr style=\"text-align: right;\">\n",
              "      <th></th>\n",
              "      <th>CAL</th>\n",
              "      <th>CNC</th>\n",
              "      <th>GR</th>\n",
              "      <th>HRD</th>\n",
              "      <th>HRM</th>\n",
              "      <th>PE</th>\n",
              "      <th>ZDEN</th>\n",
              "      <th>DTC</th>\n",
              "      <th>DTS</th>\n",
              "      <th>IGR</th>\n",
              "    </tr>\n",
              "  </thead>\n",
              "  <tbody>\n",
              "    <tr>\n",
              "      <th>573</th>\n",
              "      <td>14.8824</td>\n",
              "      <td>0.5173</td>\n",
              "      <td>1.757322</td>\n",
              "      <td>0.297235</td>\n",
              "      <td>0.295039</td>\n",
              "      <td>27.9432</td>\n",
              "      <td>2.3510</td>\n",
              "      <td>125.9611</td>\n",
              "      <td>306.8676</td>\n",
              "      <td>0.552475</td>\n",
              "    </tr>\n",
              "    <tr>\n",
              "      <th>574</th>\n",
              "      <td>14.9570</td>\n",
              "      <td>0.4966</td>\n",
              "      <td>1.800437</td>\n",
              "      <td>0.311160</td>\n",
              "      <td>0.214128</td>\n",
              "      <td>28.1064</td>\n",
              "      <td>2.4055</td>\n",
              "      <td>125.9726</td>\n",
              "      <td>305.8347</td>\n",
              "      <td>0.566159</td>\n",
              "    </tr>\n",
              "    <tr>\n",
              "      <th>575</th>\n",
              "      <td>14.6341</td>\n",
              "      <td>0.4433</td>\n",
              "      <td>1.809706</td>\n",
              "      <td>0.310991</td>\n",
              "      <td>0.172194</td>\n",
              "      <td>26.5968</td>\n",
              "      <td>2.4579</td>\n",
              "      <td>125.8528</td>\n",
              "      <td>305.9089</td>\n",
              "      <td>0.569100</td>\n",
              "    </tr>\n",
              "    <tr>\n",
              "      <th>576</th>\n",
              "      <td>14.2318</td>\n",
              "      <td>0.4309</td>\n",
              "      <td>1.799440</td>\n",
              "      <td>0.302201</td>\n",
              "      <td>0.164739</td>\n",
              "      <td>19.5635</td>\n",
              "      <td>2.4219</td>\n",
              "      <td>125.7362</td>\n",
              "      <td>305.1737</td>\n",
              "      <td>0.565842</td>\n",
              "    </tr>\n",
              "    <tr>\n",
              "      <th>577</th>\n",
              "      <td>14.0163</td>\n",
              "      <td>0.4469</td>\n",
              "      <td>1.784204</td>\n",
              "      <td>0.290769</td>\n",
              "      <td>0.159507</td>\n",
              "      <td>9.8556</td>\n",
              "      <td>2.3138</td>\n",
              "      <td>125.9774</td>\n",
              "      <td>304.4476</td>\n",
              "      <td>0.561007</td>\n",
              "    </tr>\n",
              "    <tr>\n",
              "      <th>...</th>\n",
              "      <td>...</td>\n",
              "      <td>...</td>\n",
              "      <td>...</td>\n",
              "      <td>...</td>\n",
              "      <td>...</td>\n",
              "      <td>...</td>\n",
              "      <td>...</td>\n",
              "      <td>...</td>\n",
              "      <td>...</td>\n",
              "      <td>...</td>\n",
              "    </tr>\n",
              "    <tr>\n",
              "      <th>30138</th>\n",
              "      <td>8.6719</td>\n",
              "      <td>0.1879</td>\n",
              "      <td>2.078995</td>\n",
              "      <td>0.400192</td>\n",
              "      <td>0.401176</td>\n",
              "      <td>0.0597</td>\n",
              "      <td>2.6240</td>\n",
              "      <td>74.2133</td>\n",
              "      <td>131.7747</td>\n",
              "      <td>0.654567</td>\n",
              "    </tr>\n",
              "    <tr>\n",
              "      <th>30139</th>\n",
              "      <td>8.6719</td>\n",
              "      <td>0.1825</td>\n",
              "      <td>2.088237</td>\n",
              "      <td>0.398131</td>\n",
              "      <td>0.394767</td>\n",
              "      <td>0.0582</td>\n",
              "      <td>2.6194</td>\n",
              "      <td>74.3503</td>\n",
              "      <td>132.2201</td>\n",
              "      <td>0.657500</td>\n",
              "    </tr>\n",
              "    <tr>\n",
              "      <th>30140</th>\n",
              "      <td>8.6797</td>\n",
              "      <td>0.1774</td>\n",
              "      <td>2.086553</td>\n",
              "      <td>0.398114</td>\n",
              "      <td>0.392996</td>\n",
              "      <td>0.0571</td>\n",
              "      <td>2.6169</td>\n",
              "      <td>74.4752</td>\n",
              "      <td>132.5171</td>\n",
              "      <td>0.656966</td>\n",
              "    </tr>\n",
              "    <tr>\n",
              "      <th>30141</th>\n",
              "      <td>8.6719</td>\n",
              "      <td>0.1744</td>\n",
              "      <td>2.081534</td>\n",
              "      <td>0.400538</td>\n",
              "      <td>0.398062</td>\n",
              "      <td>0.0562</td>\n",
              "      <td>2.6159</td>\n",
              "      <td>74.5917</td>\n",
              "      <td>132.7115</td>\n",
              "      <td>0.655373</td>\n",
              "    </tr>\n",
              "    <tr>\n",
              "      <th>30142</th>\n",
              "      <td>8.6719</td>\n",
              "      <td>0.1742</td>\n",
              "      <td>2.081084</td>\n",
              "      <td>0.401590</td>\n",
              "      <td>0.399120</td>\n",
              "      <td>0.0552</td>\n",
              "      <td>2.6155</td>\n",
              "      <td>74.7082</td>\n",
              "      <td>132.9060</td>\n",
              "      <td>0.655230</td>\n",
              "    </tr>\n",
              "  </tbody>\n",
              "</table>\n",
              "<p>20525 rows × 10 columns</p>\n",
              "</div>"
            ],
            "text/plain": [
              "           CAL     CNC        GR  ...       DTC       DTS       IGR\n",
              "573    14.8824  0.5173  1.757322  ...  125.9611  306.8676  0.552475\n",
              "574    14.9570  0.4966  1.800437  ...  125.9726  305.8347  0.566159\n",
              "575    14.6341  0.4433  1.809706  ...  125.8528  305.9089  0.569100\n",
              "576    14.2318  0.4309  1.799440  ...  125.7362  305.1737  0.565842\n",
              "577    14.0163  0.4469  1.784204  ...  125.9774  304.4476  0.561007\n",
              "...        ...     ...       ...  ...       ...       ...       ...\n",
              "30138   8.6719  0.1879  2.078995  ...   74.2133  131.7747  0.654567\n",
              "30139   8.6719  0.1825  2.088237  ...   74.3503  132.2201  0.657500\n",
              "30140   8.6797  0.1774  2.086553  ...   74.4752  132.5171  0.656966\n",
              "30141   8.6719  0.1744  2.081534  ...   74.5917  132.7115  0.655373\n",
              "30142   8.6719  0.1742  2.081084  ...   74.7082  132.9060  0.655230\n",
              "\n",
              "[20525 rows x 10 columns]"
            ]
          },
          "metadata": {
            "tags": []
          },
          "execution_count": 151
        }
      ]
    },
    {
      "cell_type": "code",
      "metadata": {
        "id": "exn28FD1GdmB",
        "colab_type": "code",
        "colab": {}
      },
      "source": [
        "\n",
        "X,y=train[['CAL', 'CNC', 'HRD', 'HRM', 'PE', 'ZDEN','IGR','NGR']],train[['DTC', 'DTS']]\n",
        "test2=test2[X.columns]\n",
        "X_train, X_test, y_train, y_test =X,test[X.columns],y,test[y.columns] \n",
        "\n",
        "#X['LI']=np.where(X['GR']>70,1,0)\n",
        "#X=X.values\n",
        "#y=y.values"
      ],
      "execution_count": 0,
      "outputs": []
    },
    {
      "cell_type": "code",
      "metadata": {
        "id": "AveDDI4pG8M7",
        "colab_type": "code",
        "outputId": "c37d4773-14d0-40e9-b9c5-76938978ee9b",
        "colab": {
          "base_uri": "https://localhost:8080/",
          "height": 419
        }
      },
      "source": [
        "train"
      ],
      "execution_count": 0,
      "outputs": [
        {
          "output_type": "execute_result",
          "data": {
            "text/html": [
              "<div>\n",
              "<style scoped>\n",
              "    .dataframe tbody tr th:only-of-type {\n",
              "        vertical-align: middle;\n",
              "    }\n",
              "\n",
              "    .dataframe tbody tr th {\n",
              "        vertical-align: top;\n",
              "    }\n",
              "\n",
              "    .dataframe thead th {\n",
              "        text-align: right;\n",
              "    }\n",
              "</style>\n",
              "<table border=\"1\" class=\"dataframe\">\n",
              "  <thead>\n",
              "    <tr style=\"text-align: right;\">\n",
              "      <th></th>\n",
              "      <th>CAL</th>\n",
              "      <th>CNC</th>\n",
              "      <th>GR</th>\n",
              "      <th>HRD</th>\n",
              "      <th>HRM</th>\n",
              "      <th>PE</th>\n",
              "      <th>ZDEN</th>\n",
              "      <th>DTC</th>\n",
              "      <th>DTS</th>\n",
              "      <th>IGR</th>\n",
              "    </tr>\n",
              "  </thead>\n",
              "  <tbody>\n",
              "    <tr>\n",
              "      <th>573</th>\n",
              "      <td>14.8824</td>\n",
              "      <td>0.5173</td>\n",
              "      <td>1.757322</td>\n",
              "      <td>0.297235</td>\n",
              "      <td>0.295039</td>\n",
              "      <td>27.9432</td>\n",
              "      <td>2.3510</td>\n",
              "      <td>125.9611</td>\n",
              "      <td>306.8676</td>\n",
              "      <td>0.552475</td>\n",
              "    </tr>\n",
              "    <tr>\n",
              "      <th>574</th>\n",
              "      <td>14.9570</td>\n",
              "      <td>0.4966</td>\n",
              "      <td>1.800437</td>\n",
              "      <td>0.311160</td>\n",
              "      <td>0.214128</td>\n",
              "      <td>28.1064</td>\n",
              "      <td>2.4055</td>\n",
              "      <td>125.9726</td>\n",
              "      <td>305.8347</td>\n",
              "      <td>0.566159</td>\n",
              "    </tr>\n",
              "    <tr>\n",
              "      <th>575</th>\n",
              "      <td>14.6341</td>\n",
              "      <td>0.4433</td>\n",
              "      <td>1.809706</td>\n",
              "      <td>0.310991</td>\n",
              "      <td>0.172194</td>\n",
              "      <td>26.5968</td>\n",
              "      <td>2.4579</td>\n",
              "      <td>125.8528</td>\n",
              "      <td>305.9089</td>\n",
              "      <td>0.569100</td>\n",
              "    </tr>\n",
              "    <tr>\n",
              "      <th>576</th>\n",
              "      <td>14.2318</td>\n",
              "      <td>0.4309</td>\n",
              "      <td>1.799440</td>\n",
              "      <td>0.302201</td>\n",
              "      <td>0.164739</td>\n",
              "      <td>19.5635</td>\n",
              "      <td>2.4219</td>\n",
              "      <td>125.7362</td>\n",
              "      <td>305.1737</td>\n",
              "      <td>0.565842</td>\n",
              "    </tr>\n",
              "    <tr>\n",
              "      <th>577</th>\n",
              "      <td>14.0163</td>\n",
              "      <td>0.4469</td>\n",
              "      <td>1.784204</td>\n",
              "      <td>0.290769</td>\n",
              "      <td>0.159507</td>\n",
              "      <td>9.8556</td>\n",
              "      <td>2.3138</td>\n",
              "      <td>125.9774</td>\n",
              "      <td>304.4476</td>\n",
              "      <td>0.561007</td>\n",
              "    </tr>\n",
              "    <tr>\n",
              "      <th>...</th>\n",
              "      <td>...</td>\n",
              "      <td>...</td>\n",
              "      <td>...</td>\n",
              "      <td>...</td>\n",
              "      <td>...</td>\n",
              "      <td>...</td>\n",
              "      <td>...</td>\n",
              "      <td>...</td>\n",
              "      <td>...</td>\n",
              "      <td>...</td>\n",
              "    </tr>\n",
              "    <tr>\n",
              "      <th>30138</th>\n",
              "      <td>8.6719</td>\n",
              "      <td>0.1879</td>\n",
              "      <td>2.078995</td>\n",
              "      <td>0.400192</td>\n",
              "      <td>0.401176</td>\n",
              "      <td>0.0597</td>\n",
              "      <td>2.6240</td>\n",
              "      <td>74.2133</td>\n",
              "      <td>131.7747</td>\n",
              "      <td>0.654567</td>\n",
              "    </tr>\n",
              "    <tr>\n",
              "      <th>30139</th>\n",
              "      <td>8.6719</td>\n",
              "      <td>0.1825</td>\n",
              "      <td>2.088237</td>\n",
              "      <td>0.398131</td>\n",
              "      <td>0.394767</td>\n",
              "      <td>0.0582</td>\n",
              "      <td>2.6194</td>\n",
              "      <td>74.3503</td>\n",
              "      <td>132.2201</td>\n",
              "      <td>0.657500</td>\n",
              "    </tr>\n",
              "    <tr>\n",
              "      <th>30140</th>\n",
              "      <td>8.6797</td>\n",
              "      <td>0.1774</td>\n",
              "      <td>2.086553</td>\n",
              "      <td>0.398114</td>\n",
              "      <td>0.392996</td>\n",
              "      <td>0.0571</td>\n",
              "      <td>2.6169</td>\n",
              "      <td>74.4752</td>\n",
              "      <td>132.5171</td>\n",
              "      <td>0.656966</td>\n",
              "    </tr>\n",
              "    <tr>\n",
              "      <th>30141</th>\n",
              "      <td>8.6719</td>\n",
              "      <td>0.1744</td>\n",
              "      <td>2.081534</td>\n",
              "      <td>0.400538</td>\n",
              "      <td>0.398062</td>\n",
              "      <td>0.0562</td>\n",
              "      <td>2.6159</td>\n",
              "      <td>74.5917</td>\n",
              "      <td>132.7115</td>\n",
              "      <td>0.655373</td>\n",
              "    </tr>\n",
              "    <tr>\n",
              "      <th>30142</th>\n",
              "      <td>8.6719</td>\n",
              "      <td>0.1742</td>\n",
              "      <td>2.081084</td>\n",
              "      <td>0.401590</td>\n",
              "      <td>0.399120</td>\n",
              "      <td>0.0552</td>\n",
              "      <td>2.6155</td>\n",
              "      <td>74.7082</td>\n",
              "      <td>132.9060</td>\n",
              "      <td>0.655230</td>\n",
              "    </tr>\n",
              "  </tbody>\n",
              "</table>\n",
              "<p>20525 rows × 10 columns</p>\n",
              "</div>"
            ],
            "text/plain": [
              "           CAL     CNC        GR  ...       DTC       DTS       IGR\n",
              "573    14.8824  0.5173  1.757322  ...  125.9611  306.8676  0.552475\n",
              "574    14.9570  0.4966  1.800437  ...  125.9726  305.8347  0.566159\n",
              "575    14.6341  0.4433  1.809706  ...  125.8528  305.9089  0.569100\n",
              "576    14.2318  0.4309  1.799440  ...  125.7362  305.1737  0.565842\n",
              "577    14.0163  0.4469  1.784204  ...  125.9774  304.4476  0.561007\n",
              "...        ...     ...       ...  ...       ...       ...       ...\n",
              "30138   8.6719  0.1879  2.078995  ...   74.2133  131.7747  0.654567\n",
              "30139   8.6719  0.1825  2.088237  ...   74.3503  132.2201  0.657500\n",
              "30140   8.6797  0.1774  2.086553  ...   74.4752  132.5171  0.656966\n",
              "30141   8.6719  0.1744  2.081534  ...   74.5917  132.7115  0.655373\n",
              "30142   8.6719  0.1742  2.081084  ...   74.7082  132.9060  0.655230\n",
              "\n",
              "[20525 rows x 10 columns]"
            ]
          },
          "metadata": {
            "tags": []
          },
          "execution_count": 153
        }
      ]
    },
    {
      "cell_type": "code",
      "metadata": {
        "id": "dPckITtOM-l9",
        "colab_type": "code",
        "outputId": "4a463af1-304f-435a-bbaa-2cc3a39004b9",
        "colab": {
          "base_uri": "https://localhost:8080/",
          "height": 34
        }
      },
      "source": [
        "X_train.shape"
      ],
      "execution_count": 0,
      "outputs": [
        {
          "output_type": "execute_result",
          "data": {
            "text/plain": [
              "(0, 7)"
            ]
          },
          "metadata": {
            "tags": []
          },
          "execution_count": 140
        }
      ]
    },
    {
      "cell_type": "code",
      "metadata": {
        "id": "ooARCU-bI8w6",
        "colab_type": "code",
        "colab": {}
      },
      "source": [
        ""
      ],
      "execution_count": 0,
      "outputs": []
    },
    {
      "cell_type": "code",
      "metadata": {
        "id": "ZIe1EQhoLb4v",
        "colab_type": "code",
        "colab": {}
      },
      "source": [
        ""
      ],
      "execution_count": 0,
      "outputs": []
    },
    {
      "cell_type": "code",
      "metadata": {
        "id": "I5_uiGXgF5jf",
        "colab_type": "code",
        "colab": {}
      },
      "source": [
        ""
      ],
      "execution_count": 0,
      "outputs": []
    },
    {
      "cell_type": "code",
      "metadata": {
        "id": "ttWBGVdWLEyN",
        "colab_type": "code",
        "colab": {}
      },
      "source": [
        "\n",
        "#X_train, X_test, y_train, y_test =X,test[X.columns],y,test[y.columns] #train_test_split(X, y, random_state=0)\n",
        "scaler=StandardScaler().fit(X_train)\n",
        "X_train=scaler.transform(X_train)\n",
        "X_test=scaler.transform(X_test)\n",
        "\n"
      ],
      "execution_count": 0,
      "outputs": []
    },
    {
      "cell_type": "code",
      "metadata": {
        "id": "mp1-a5PZNozl",
        "colab_type": "code",
        "colab": {}
      },
      "source": [
        "\n"
      ],
      "execution_count": 0,
      "outputs": []
    },
    {
      "cell_type": "code",
      "metadata": {
        "id": "pwLhaWJVLSnM",
        "colab_type": "code",
        "outputId": "1898b861-51ad-4714-ca33-7f5130ff4476",
        "colab": {
          "base_uri": "https://localhost:8080/",
          "height": 85
        }
      },
      "source": [
        "parameters = {'estimator__kernel': ('linear', 'rbf','poly'), 'estimator__C':[1.5, 10],'estimator__gamma': [1e-7, 1e-4],'estimator__epsilon':[0.1,0.2,0.5,0.3]}\n",
        "svr =MultiOutputRegressor(SVR())\n",
        "clf = RandomizedSearchCV(svr, parameters,n_jobs=-1,cv=5,scoring='neg_mean_squared_error')\n",
        "clf.fit(Xscaled_train,y_train)\n",
        "clf.best_params_"
      ],
      "execution_count": 0,
      "outputs": [
        {
          "output_type": "execute_result",
          "data": {
            "text/plain": [
              "{'estimator__C': 10,\n",
              " 'estimator__epsilon': 0.5,\n",
              " 'estimator__gamma': 0.0001,\n",
              " 'estimator__kernel': 'rbf'}"
            ]
          },
          "metadata": {
            "tags": []
          },
          "execution_count": 12
        }
      ]
    },
    {
      "cell_type": "code",
      "metadata": {
        "id": "Ztuo8RgwLyDA",
        "colab_type": "code",
        "outputId": "bee739e9-123b-44b6-93d2-a0f7e904e867",
        "colab": {
          "base_uri": "https://localhost:8080/",
          "height": 34
        }
      },
      "source": [
        "predict=clf.predict(Xscaled_test)\n",
        "rmse = np.sqrt(mean_squared_error(y_test, predict))\n",
        "print(\"MAE: %f\" % (rmse))"
      ],
      "execution_count": 0,
      "outputs": [
        {
          "output_type": "stream",
          "text": [
            "MAE: 28.410401\n"
          ],
          "name": "stdout"
        }
      ]
    },
    {
      "cell_type": "code",
      "metadata": {
        "id": "CEgzbp25Mjxu",
        "colab_type": "code",
        "colab": {}
      },
      "source": [
        "predict=xgb.predict(X_test)"
      ],
      "execution_count": 0,
      "outputs": []
    },
    {
      "cell_type": "code",
      "metadata": {
        "id": "z28-YS8SMxAO",
        "colab_type": "code",
        "outputId": "4df66ba7-acd2-4964-9ce1-8b290524de37",
        "colab": {
          "base_uri": "https://localhost:8080/",
          "height": 102
        }
      },
      "source": [
        "rmse = np.sqrt(mean_squared_error(y_test, predict))\n",
        "print(\"RMSE: %f\" % (rmse))\n",
        "print('\\n')\n",
        "#print(\"Classification Report\", classification_report(y_test,predict))\n",
        "print('\\n')\n",
        "#print(\"Confusion Matrics\", confusion_matrix(y_test,predict))"
      ],
      "execution_count": 0,
      "outputs": [
        {
          "output_type": "stream",
          "text": [
            "RMSE: 85.671998\n",
            "\n",
            "\n",
            "\n",
            "\n"
          ],
          "name": "stdout"
        }
      ]
    },
    {
      "cell_type": "code",
      "metadata": {
        "id": "CPtpCxyJOFoM",
        "colab_type": "code",
        "colab": {}
      },
      "source": [
        "param_test1={'estimator__max_depth':range(1,10),'estimator__min_child_weight': range(1,6),'estimator__learning_rate':[i/10.0 for i in range(0,6)],'estimator__n_estimators':(80,100,120,140,),'estimator__gamma':[i/10.0 for i in range(0,5)],'estimator__subsample':(0.8,0.9,0.7),'estimator__colsample_bytree':(0.8,0.7), 'estimator__objective':('reg:linear','reg:squarederror',),'estimator__nthread':(4,), 'estimator__scale_pos_weight':(1,),'estimator__seed':(27,)}\n"
      ],
      "execution_count": 0,
      "outputs": []
    },
    {
      "cell_type": "code",
      "metadata": {
        "id": "7HfPu_5wOWp7",
        "colab_type": "code",
        "outputId": "f1fdf685-be1c-40cf-cb1e-55f438b42f81",
        "colab": {
          "base_uri": "https://localhost:8080/",
          "height": 1000
        }
      },
      "source": [
        "xg_reg = (XGBRegressor())\n",
        "gsearch1=RandomizedSearchCV(estimator=MultiOutputRegressor(xg_reg),scoring='neg_mean_squared_error',param_distributions=param_test1,n_jobs=-1,iid=False, cv=5,random_state=123456)\n",
        "gsearch1.fit(X_train,y_train)\n",
        "gsearch1.cv_results_,gsearch1.best_params_,gsearch1.best_score_"
      ],
      "execution_count": 0,
      "outputs": [
        {
          "output_type": "stream",
          "text": [
            "/usr/local/lib/python3.6/dist-packages/sklearn/model_selection/_search.py:823: FutureWarning: The parameter 'iid' is deprecated in 0.22 and will be removed in 0.24.\n",
            "  \"removed in 0.24.\", FutureWarning\n"
          ],
          "name": "stderr"
        },
        {
          "output_type": "execute_result",
          "data": {
            "text/plain": [
              "({'mean_fit_time': array([9.05638857, 7.54878416, 6.7941361 , 3.12290277, 5.45981317,\n",
              "         2.21655922, 7.54049287, 2.69735246, 8.16378884, 2.99843392]),\n",
              "  'mean_score_time': array([0.08119688, 0.0662303 , 0.06714096, 0.03450933, 0.05479326,\n",
              "         0.02279038, 0.07238026, 0.02829862, 0.08859921, 0.0287519 ]),\n",
              "  'mean_test_score': array([-2251.0601685 , -2143.00529793, -2332.10896043, -2058.603404  ,\n",
              "         -2174.4671976 , -2166.24325826, -2307.57294925, -1839.21573385,\n",
              "         -2212.87677272, -2330.99811634]),\n",
              "  'param_estimator__colsample_bytree': masked_array(data=[0.8, 0.8, 0.7, 0.7, 0.7, 0.7, 0.8, 0.8, 0.7, 0.7],\n",
              "               mask=[False, False, False, False, False, False, False, False,\n",
              "                     False, False],\n",
              "         fill_value='?',\n",
              "              dtype=object),\n",
              "  'param_estimator__gamma': masked_array(data=[0.0, 0.3, 0.3, 0.0, 0.0, 0.1, 0.2, 0.3, 0.1, 0.3],\n",
              "               mask=[False, False, False, False, False, False, False, False,\n",
              "                     False, False],\n",
              "         fill_value='?',\n",
              "              dtype=object),\n",
              "  'param_estimator__learning_rate': masked_array(data=[0.5, 0.3, 0.1, 0.3, 0.3, 0.2, 0.5, 0.5, 0.4, 0.1],\n",
              "               mask=[False, False, False, False, False, False, False, False,\n",
              "                     False, False],\n",
              "         fill_value='?',\n",
              "              dtype=object),\n",
              "  'param_estimator__max_depth': masked_array(data=[7, 5, 7, 3, 7, 1, 7, 3, 6, 4],\n",
              "               mask=[False, False, False, False, False, False, False, False,\n",
              "                     False, False],\n",
              "         fill_value='?',\n",
              "              dtype=object),\n",
              "  'param_estimator__min_child_weight': masked_array(data=[4, 5, 5, 1, 3, 4, 5, 3, 3, 1],\n",
              "               mask=[False, False, False, False, False, False, False, False,\n",
              "                     False, False],\n",
              "         fill_value='?',\n",
              "              dtype=object),\n",
              "  'param_estimator__n_estimators': masked_array(data=[120, 140, 100, 100, 80, 140, 100, 80, 140, 80],\n",
              "               mask=[False, False, False, False, False, False, False, False,\n",
              "                     False, False],\n",
              "         fill_value='?',\n",
              "              dtype=object),\n",
              "  'param_estimator__nthread': masked_array(data=[4, 4, 4, 4, 4, 4, 4, 4, 4, 4],\n",
              "               mask=[False, False, False, False, False, False, False, False,\n",
              "                     False, False],\n",
              "         fill_value='?',\n",
              "              dtype=object),\n",
              "  'param_estimator__objective': masked_array(data=['reg:squarederror', 'reg:linear', 'reg:squarederror',\n",
              "                     'reg:squarederror', 'reg:linear', 'reg:linear',\n",
              "                     'reg:linear', 'reg:squarederror', 'reg:linear',\n",
              "                     'reg:linear'],\n",
              "               mask=[False, False, False, False, False, False, False, False,\n",
              "                     False, False],\n",
              "         fill_value='?',\n",
              "              dtype=object),\n",
              "  'param_estimator__scale_pos_weight': masked_array(data=[1, 1, 1, 1, 1, 1, 1, 1, 1, 1],\n",
              "               mask=[False, False, False, False, False, False, False, False,\n",
              "                     False, False],\n",
              "         fill_value='?',\n",
              "              dtype=object),\n",
              "  'param_estimator__seed': masked_array(data=[27, 27, 27, 27, 27, 27, 27, 27, 27, 27],\n",
              "               mask=[False, False, False, False, False, False, False, False,\n",
              "                     False, False],\n",
              "         fill_value='?',\n",
              "              dtype=object),\n",
              "  'param_estimator__subsample': masked_array(data=[0.7, 0.8, 0.9, 0.8, 0.8, 0.9, 0.9, 0.8, 0.9, 0.8],\n",
              "               mask=[False, False, False, False, False, False, False, False,\n",
              "                     False, False],\n",
              "         fill_value='?',\n",
              "              dtype=object),\n",
              "  'params': [{'estimator__colsample_bytree': 0.8,\n",
              "    'estimator__gamma': 0.0,\n",
              "    'estimator__learning_rate': 0.5,\n",
              "    'estimator__max_depth': 7,\n",
              "    'estimator__min_child_weight': 4,\n",
              "    'estimator__n_estimators': 120,\n",
              "    'estimator__nthread': 4,\n",
              "    'estimator__objective': 'reg:squarederror',\n",
              "    'estimator__scale_pos_weight': 1,\n",
              "    'estimator__seed': 27,\n",
              "    'estimator__subsample': 0.7},\n",
              "   {'estimator__colsample_bytree': 0.8,\n",
              "    'estimator__gamma': 0.3,\n",
              "    'estimator__learning_rate': 0.3,\n",
              "    'estimator__max_depth': 5,\n",
              "    'estimator__min_child_weight': 5,\n",
              "    'estimator__n_estimators': 140,\n",
              "    'estimator__nthread': 4,\n",
              "    'estimator__objective': 'reg:linear',\n",
              "    'estimator__scale_pos_weight': 1,\n",
              "    'estimator__seed': 27,\n",
              "    'estimator__subsample': 0.8},\n",
              "   {'estimator__colsample_bytree': 0.7,\n",
              "    'estimator__gamma': 0.3,\n",
              "    'estimator__learning_rate': 0.1,\n",
              "    'estimator__max_depth': 7,\n",
              "    'estimator__min_child_weight': 5,\n",
              "    'estimator__n_estimators': 100,\n",
              "    'estimator__nthread': 4,\n",
              "    'estimator__objective': 'reg:squarederror',\n",
              "    'estimator__scale_pos_weight': 1,\n",
              "    'estimator__seed': 27,\n",
              "    'estimator__subsample': 0.9},\n",
              "   {'estimator__colsample_bytree': 0.7,\n",
              "    'estimator__gamma': 0.0,\n",
              "    'estimator__learning_rate': 0.3,\n",
              "    'estimator__max_depth': 3,\n",
              "    'estimator__min_child_weight': 1,\n",
              "    'estimator__n_estimators': 100,\n",
              "    'estimator__nthread': 4,\n",
              "    'estimator__objective': 'reg:squarederror',\n",
              "    'estimator__scale_pos_weight': 1,\n",
              "    'estimator__seed': 27,\n",
              "    'estimator__subsample': 0.8},\n",
              "   {'estimator__colsample_bytree': 0.7,\n",
              "    'estimator__gamma': 0.0,\n",
              "    'estimator__learning_rate': 0.3,\n",
              "    'estimator__max_depth': 7,\n",
              "    'estimator__min_child_weight': 3,\n",
              "    'estimator__n_estimators': 80,\n",
              "    'estimator__nthread': 4,\n",
              "    'estimator__objective': 'reg:linear',\n",
              "    'estimator__scale_pos_weight': 1,\n",
              "    'estimator__seed': 27,\n",
              "    'estimator__subsample': 0.8},\n",
              "   {'estimator__colsample_bytree': 0.7,\n",
              "    'estimator__gamma': 0.1,\n",
              "    'estimator__learning_rate': 0.2,\n",
              "    'estimator__max_depth': 1,\n",
              "    'estimator__min_child_weight': 4,\n",
              "    'estimator__n_estimators': 140,\n",
              "    'estimator__nthread': 4,\n",
              "    'estimator__objective': 'reg:linear',\n",
              "    'estimator__scale_pos_weight': 1,\n",
              "    'estimator__seed': 27,\n",
              "    'estimator__subsample': 0.9},\n",
              "   {'estimator__colsample_bytree': 0.8,\n",
              "    'estimator__gamma': 0.2,\n",
              "    'estimator__learning_rate': 0.5,\n",
              "    'estimator__max_depth': 7,\n",
              "    'estimator__min_child_weight': 5,\n",
              "    'estimator__n_estimators': 100,\n",
              "    'estimator__nthread': 4,\n",
              "    'estimator__objective': 'reg:linear',\n",
              "    'estimator__scale_pos_weight': 1,\n",
              "    'estimator__seed': 27,\n",
              "    'estimator__subsample': 0.9},\n",
              "   {'estimator__colsample_bytree': 0.8,\n",
              "    'estimator__gamma': 0.3,\n",
              "    'estimator__learning_rate': 0.5,\n",
              "    'estimator__max_depth': 3,\n",
              "    'estimator__min_child_weight': 3,\n",
              "    'estimator__n_estimators': 80,\n",
              "    'estimator__nthread': 4,\n",
              "    'estimator__objective': 'reg:squarederror',\n",
              "    'estimator__scale_pos_weight': 1,\n",
              "    'estimator__seed': 27,\n",
              "    'estimator__subsample': 0.8},\n",
              "   {'estimator__colsample_bytree': 0.7,\n",
              "    'estimator__gamma': 0.1,\n",
              "    'estimator__learning_rate': 0.4,\n",
              "    'estimator__max_depth': 6,\n",
              "    'estimator__min_child_weight': 3,\n",
              "    'estimator__n_estimators': 140,\n",
              "    'estimator__nthread': 4,\n",
              "    'estimator__objective': 'reg:linear',\n",
              "    'estimator__scale_pos_weight': 1,\n",
              "    'estimator__seed': 27,\n",
              "    'estimator__subsample': 0.9},\n",
              "   {'estimator__colsample_bytree': 0.7,\n",
              "    'estimator__gamma': 0.3,\n",
              "    'estimator__learning_rate': 0.1,\n",
              "    'estimator__max_depth': 4,\n",
              "    'estimator__min_child_weight': 1,\n",
              "    'estimator__n_estimators': 80,\n",
              "    'estimator__nthread': 4,\n",
              "    'estimator__objective': 'reg:linear',\n",
              "    'estimator__scale_pos_weight': 1,\n",
              "    'estimator__seed': 27,\n",
              "    'estimator__subsample': 0.8}],\n",
              "  'rank_test_score': array([ 7,  3, 10,  2,  5,  4,  8,  1,  6,  9], dtype=int32),\n",
              "  'split0_test_score': array([-10272.34087258,  -9812.1463982 , -10898.2812409 ,  -9560.84952011,\n",
              "         -10058.61752878, -10069.47026454, -10536.10696646,  -8449.33634869,\n",
              "         -10120.79257214, -11012.89736313]),\n",
              "  'split1_test_score': array([-231.52319615, -151.26673799, -147.90099279, -159.55362044,\n",
              "         -144.39676479, -213.41164417, -174.51513634, -149.53727664,\n",
              "         -190.368793  , -148.98040769]),\n",
              "  'split2_test_score': array([-384.79147144, -385.11238719, -331.09761246, -293.4403289 ,\n",
              "         -350.64499965, -260.21437507, -452.17881571, -324.16232165,\n",
              "         -385.31230151, -240.18258793]),\n",
              "  'split3_test_score': array([-27.94680161, -21.47285473, -17.70219899, -22.83564952,\n",
              "         -21.00742604, -44.8372846 , -26.88567156, -24.57921569,\n",
              "         -27.23720922, -20.39700464]),\n",
              "  'split4_test_score': array([-338.69850074, -345.02811151, -265.56275699, -256.33790102,\n",
              "         -297.66926872, -243.28272294, -348.17815619, -248.4635066 ,\n",
              "         -340.67298771, -232.53321831]),\n",
              "  'std_fit_time': array([0.1775932 , 0.10119799, 0.13015744, 0.07191056, 0.08690168,\n",
              "         0.03777521, 0.09957935, 0.04481068, 0.17389382, 0.53839656]),\n",
              "  'std_score_time': array([0.01290764, 0.00619697, 0.00493502, 0.00475764, 0.0050138 ,\n",
              "         0.00198151, 0.00942687, 0.00433736, 0.00832523, 0.00559811]),\n",
              "  'std_test_score': array([4012.5252088 , 3836.83612012, 4284.41851988, 3752.28993662,\n",
              "         3943.78242985, 3952.35714618, 4116.8424189 , 3306.58412912,\n",
              "         3955.95323605, 4341.67059579])},\n",
              " {'estimator__colsample_bytree': 0.8,\n",
              "  'estimator__gamma': 0.3,\n",
              "  'estimator__learning_rate': 0.5,\n",
              "  'estimator__max_depth': 3,\n",
              "  'estimator__min_child_weight': 3,\n",
              "  'estimator__n_estimators': 80,\n",
              "  'estimator__nthread': 4,\n",
              "  'estimator__objective': 'reg:squarederror',\n",
              "  'estimator__scale_pos_weight': 1,\n",
              "  'estimator__seed': 27,\n",
              "  'estimator__subsample': 0.8},\n",
              " -1839.215733854975)"
            ]
          },
          "metadata": {
            "tags": []
          },
          "execution_count": 97
        }
      ]
    },
    {
      "cell_type": "code",
      "metadata": {
        "id": "_LvbX2F_wxlB",
        "colab_type": "code",
        "colab": {}
      },
      "source": [
        "best_params={'estimator__colsample_bytree': 0.8,\n",
        "  'estimator__gamma': 0.0,\n",
        "  'estimator__learning_rate': 0.1,\n",
        "  'estimator__max_depth': 9,\n",
        "  'estimator__min_child_weight': 1,\n",
        "  'estimator__n_estimators': 140,\n",
        "  'estimator__nthread': 4,\n",
        "  'estimator__objective': 'reg:linear',\n",
        "  'estimator__scale_pos_weight': 1,\n",
        "  'estimator__seed': 27,\n",
        "  'estimator__subsample': 0.8}"
      ],
      "execution_count": 0,
      "outputs": []
    },
    {
      "cell_type": "code",
      "metadata": {
        "id": "qY8xLGOiw5DM",
        "colab_type": "code",
        "colab": {}
      },
      "source": [
        "xgb=MultiOutputRegressor(XGBRegressor(colsample_bytree= 0.8,\n",
        "gamma= 0.1,\n",
        "  learning_rate= 0.1,\n",
        "  max_depth= 8,\n",
        "  min_child_weight= 2,\n",
        "  n_estimators= 100,\n",
        "  nthread= 4,\n",
        "  objective= 'reg:squarederror',\n",
        "  scale_pos_weight= 1,\n",
        "  seed= 27,\n",
        "  subsample= 0.8, random_state=42)).fit(X_train,y_train)"
      ],
      "execution_count": 0,
      "outputs": []
    },
    {
      "cell_type": "code",
      "metadata": {
        "id": "u_sJngO9gFRp",
        "colab_type": "code",
        "outputId": "19ee51c8-f00c-41c2-f373-5b23c22a6e17",
        "colab": {
          "base_uri": "https://localhost:8080/",
          "height": 102
        }
      },
      "source": [
        "predict=xgb.predict(X_test)\n",
        "rmse = np.sqrt(mean_squared_error(y_test, predict))\n",
        "print(\"MAE: %f\" % (rmse))\n",
        "print('\\n')\n",
        "#print(\"Classification Report\", classification_report(y_test,predict))\n",
        "print('\\n')\n",
        "#print(\"Confusion Matrics\", confusion_matrix(y_test,predict))\n"
      ],
      "execution_count": 0,
      "outputs": [
        {
          "output_type": "stream",
          "text": [
            "MAE: 17.144052\n",
            "\n",
            "\n",
            "\n",
            "\n"
          ],
          "name": "stdout"
        }
      ]
    },
    {
      "cell_type": "code",
      "metadata": {
        "id": "-7iS3POFSYce",
        "colab_type": "code",
        "colab": {}
      },
      "source": [
        "#17.144052\n",
        "final_predict=xgb.predict(test2)\n",
        "result=pd.DataFrame({'DTC': [x[0] for x in final_predict],'DTS':[x[1] for x in final_predict]})"
      ],
      "execution_count": 0,
      "outputs": []
    },
    {
      "cell_type": "code",
      "metadata": {
        "id": "x_tlgVp1uIbp",
        "colab_type": "code",
        "outputId": "fc5278a4-61e7-4964-c6ed-51b4c0840ef8",
        "colab": {
          "base_uri": "https://localhost:8080/",
          "height": 419
        }
      },
      "source": [
        "result"
      ],
      "execution_count": 0,
      "outputs": [
        {
          "output_type": "execute_result",
          "data": {
            "text/html": [
              "<div>\n",
              "<style scoped>\n",
              "    .dataframe tbody tr th:only-of-type {\n",
              "        vertical-align: middle;\n",
              "    }\n",
              "\n",
              "    .dataframe tbody tr th {\n",
              "        vertical-align: top;\n",
              "    }\n",
              "\n",
              "    .dataframe thead th {\n",
              "        text-align: right;\n",
              "    }\n",
              "</style>\n",
              "<table border=\"1\" class=\"dataframe\">\n",
              "  <thead>\n",
              "    <tr style=\"text-align: right;\">\n",
              "      <th></th>\n",
              "      <th>DTC</th>\n",
              "      <th>DTS</th>\n",
              "    </tr>\n",
              "  </thead>\n",
              "  <tbody>\n",
              "    <tr>\n",
              "      <th>0</th>\n",
              "      <td>112.448494</td>\n",
              "      <td>259.722626</td>\n",
              "    </tr>\n",
              "    <tr>\n",
              "      <th>1</th>\n",
              "      <td>112.448494</td>\n",
              "      <td>259.722626</td>\n",
              "    </tr>\n",
              "    <tr>\n",
              "      <th>2</th>\n",
              "      <td>112.802727</td>\n",
              "      <td>258.453583</td>\n",
              "    </tr>\n",
              "    <tr>\n",
              "      <th>3</th>\n",
              "      <td>112.448494</td>\n",
              "      <td>258.453583</td>\n",
              "    </tr>\n",
              "    <tr>\n",
              "      <th>4</th>\n",
              "      <td>112.448494</td>\n",
              "      <td>256.451019</td>\n",
              "    </tr>\n",
              "    <tr>\n",
              "      <th>...</th>\n",
              "      <td>...</td>\n",
              "      <td>...</td>\n",
              "    </tr>\n",
              "    <tr>\n",
              "      <th>11083</th>\n",
              "      <td>113.030556</td>\n",
              "      <td>257.434204</td>\n",
              "    </tr>\n",
              "    <tr>\n",
              "      <th>11084</th>\n",
              "      <td>113.030556</td>\n",
              "      <td>257.434204</td>\n",
              "    </tr>\n",
              "    <tr>\n",
              "      <th>11085</th>\n",
              "      <td>113.815422</td>\n",
              "      <td>257.434204</td>\n",
              "    </tr>\n",
              "    <tr>\n",
              "      <th>11086</th>\n",
              "      <td>113.815422</td>\n",
              "      <td>257.434204</td>\n",
              "    </tr>\n",
              "    <tr>\n",
              "      <th>11087</th>\n",
              "      <td>113.815422</td>\n",
              "      <td>257.434204</td>\n",
              "    </tr>\n",
              "  </tbody>\n",
              "</table>\n",
              "<p>11088 rows × 2 columns</p>\n",
              "</div>"
            ],
            "text/plain": [
              "              DTC         DTS\n",
              "0      112.448494  259.722626\n",
              "1      112.448494  259.722626\n",
              "2      112.802727  258.453583\n",
              "3      112.448494  258.453583\n",
              "4      112.448494  256.451019\n",
              "...           ...         ...\n",
              "11083  113.030556  257.434204\n",
              "11084  113.030556  257.434204\n",
              "11085  113.815422  257.434204\n",
              "11086  113.815422  257.434204\n",
              "11087  113.815422  257.434204\n",
              "\n",
              "[11088 rows x 2 columns]"
            ]
          },
          "metadata": {
            "tags": []
          },
          "execution_count": 40
        }
      ]
    },
    {
      "cell_type": "code",
      "metadata": {
        "id": "tCTMuH1vYgdI",
        "colab_type": "code",
        "outputId": "97d7e474-625b-43f2-ae5d-5e8db1cf0c34",
        "colab": {
          "base_uri": "https://localhost:8080/",
          "height": 122
        }
      },
      "source": [
        "from google.colab import drive\n",
        "drive.mount('drive')"
      ],
      "execution_count": 0,
      "outputs": [
        {
          "output_type": "stream",
          "text": [
            "Go to this URL in a browser: https://accounts.google.com/o/oauth2/auth?client_id=947318989803-6bn6qk8qdgf4n4g3pfee6491hc0brc4i.apps.googleusercontent.com&redirect_uri=urn%3aietf%3awg%3aoauth%3a2.0%3aoob&response_type=code&scope=email%20https%3a%2f%2fwww.googleapis.com%2fauth%2fdocs.test%20https%3a%2f%2fwww.googleapis.com%2fauth%2fdrive%20https%3a%2f%2fwww.googleapis.com%2fauth%2fdrive.photos.readonly%20https%3a%2f%2fwww.googleapis.com%2fauth%2fpeopleapi.readonly\n",
            "\n",
            "Enter your authorization code:\n",
            "··········\n",
            "Mounted at drive\n"
          ],
          "name": "stdout"
        }
      ]
    },
    {
      "cell_type": "code",
      "metadata": {
        "id": "OOZzI4TiYmUL",
        "colab_type": "code",
        "colab": {}
      },
      "source": [
        ""
      ],
      "execution_count": 0,
      "outputs": []
    },
    {
      "cell_type": "code",
      "metadata": {
        "id": "ApQAh27OXKq6",
        "colab_type": "code",
        "colab": {}
      },
      "source": [
        "result.to_csv('result.csv')\n",
        "!cp result.csv \"drive/My Drive/\""
      ],
      "execution_count": 0,
      "outputs": []
    },
    {
      "cell_type": "code",
      "metadata": {
        "id": "dfTta3B92pqa",
        "colab_type": "code",
        "outputId": "b9434f47-5f04-42ea-ddb1-e9c76cd6cefb",
        "colab": {
          "base_uri": "https://localhost:8080/",
          "height": 34
        }
      },
      "source": [
        "result.shape"
      ],
      "execution_count": 0,
      "outputs": [
        {
          "output_type": "execute_result",
          "data": {
            "text/plain": [
              "(11088, 2)"
            ]
          },
          "metadata": {
            "tags": []
          },
          "execution_count": 42
        }
      ]
    },
    {
      "cell_type": "code",
      "metadata": {
        "id": "836DDe7Y0acS",
        "colab_type": "code",
        "colab": {}
      },
      "source": [
        ""
      ],
      "execution_count": 0,
      "outputs": []
    }
  ]
}