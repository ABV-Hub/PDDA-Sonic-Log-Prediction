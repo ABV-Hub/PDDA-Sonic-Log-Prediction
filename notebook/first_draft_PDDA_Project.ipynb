{
 "cells": [
  {
   "cell_type": "code",
   "execution_count": 1,
   "metadata": {
    "colab": {
     "base_uri": "https://localhost:8080/",
     "height": 71
    },
    "colab_type": "code",
    "id": "IXDxuQ-brWWE",
    "outputId": "77ffb97f-dbc1-4a0d-a17f-1d52dc170c53"
   },
   "outputs": [],
   "source": [
    "import pandas as pd\n",
    "import matplotlib.pyplot as plt\n",
    "from sklearn.impute import SimpleImputer\n",
    "import numpy as np\n",
    "import seaborn as sns\n",
    "from sklearn.preprocessing import StandardScaler,MinMaxScaler\n",
    "from xgboost import XGBRegressor\n",
    "from sklearn.model_selection import train_test_split\n",
    "from sklearn.multioutput import MultiOutputRegressor \n",
    "from sklearn.metrics import mean_squared_error, mean_absolute_error\n",
    "from sklearn.model_selection import GridSearchCV,RandomizedSearchCV\n",
    "from sklearn.metrics import classification_report, confusion_matrix\n",
    "from sklearn.experimental import enable_hist_gradient_boosting\n",
    "from sklearn.svm import SVR"
   ]
  },
  {
   "cell_type": "code",
   "execution_count": 2,
   "metadata": {
    "colab": {},
    "colab_type": "code",
    "id": "NklzWOSPE1vg"
   },
   "outputs": [],
   "source": [
    "\n",
    "na_values=['',' ','Nan','NaN',-999.0,-999]\n",
    "train=pd.read_csv('https://raw.githubusercontent.com/instabaines/PDDA/master/train.csv',na_values=na_values)\n",
    "test=pd.read_csv('https://raw.githubusercontent.com/instabaines/PDDA/master/real_result_20perc.csv',na_values=na_values)\n",
    "test2=pd.read_csv('https://raw.githubusercontent.com/instabaines/PDDA/master/test.csv',na_values=na_values)"
   ]
  },
  {
   "cell_type": "code",
   "execution_count": 3,
   "metadata": {
    "colab": {
     "base_uri": "https://localhost:8080/",
     "height": 34
    },
    "colab_type": "code",
    "id": "engs-3q41anc",
    "outputId": "20cb3075-fea9-4fec-a738-9a09cd46ce60"
   },
   "outputs": [
    {
     "data": {
      "text/plain": [
       "(2217, 9)"
      ]
     },
     "execution_count": 3,
     "metadata": {},
     "output_type": "execute_result"
    }
   ],
   "source": [
    "train=train.dropna(axis=0)\n",
    "test=test.dropna(axis=0)\n",
    "test.shape"
   ]
  },
  {
   "cell_type": "code",
   "execution_count": 4,
   "metadata": {
    "colab": {},
    "colab_type": "code",
    "id": "vRS16V-TFCyg"
   },
   "outputs": [],
   "source": [
    "\n",
    "train['NGR']=0+(200-0)*(train['GR']-train['GR'].min())/(train['GR'].max()-train['GR'].min())\n",
    "train['IGR']=(train['NGR']-train['NGR'].min())/(train['NGR'].max()-train['NGR'].min())\n",
    "test['NGR']=0+(200-0)*(test['GR']-test['GR'].min())/(test['GR'].max()-test['GR'].min())\n",
    "test['IGR']=(test['NGR']-test['NGR'].min())/(test['NGR'].max()-test['NGR'].min())\n",
    "train['HRD']=np.log10(train['HRD'])\n",
    "test['HRD']=np.log10(test['HRD'])\n",
    "\n",
    "#del train['GR']\n",
    "train=train.dropna(axis=0)\n",
    "test=test.dropna(axis=0)\n"
   ]
  },
  {
   "cell_type": "code",
   "execution_count": 5,
   "metadata": {
    "colab": {},
    "colab_type": "code",
    "id": "kGo6ZBzpRyfX"
   },
   "outputs": [],
   "source": [
    "test2['NGR']=0+(200-0)*(test2['GR']-test2['GR'].min())/(test2['GR'].max()-test2['GR'].min())\n",
    "test2['IGR']=(test2['NGR']-test2['NGR'].min())/(test2['NGR'].max()-test2['NGR'].min())\n",
    "\n",
    "test2['HRD']=np.log10(test2['HRD'])"
   ]
  },
  {
   "cell_type": "code",
   "execution_count": 6,
   "metadata": {
    "colab": {
     "base_uri": "https://localhost:8080/",
     "height": 419
    },
    "colab_type": "code",
    "id": "DgPbp7AkHt5L",
    "outputId": "8c4729b5-a1e7-4b73-f728-4f251385deaf"
   },
   "outputs": [
    {
     "data": {
      "text/html": [
       "<div>\n",
       "<style scoped>\n",
       "    .dataframe tbody tr th:only-of-type {\n",
       "        vertical-align: middle;\n",
       "    }\n",
       "\n",
       "    .dataframe tbody tr th {\n",
       "        vertical-align: top;\n",
       "    }\n",
       "\n",
       "    .dataframe thead th {\n",
       "        text-align: right;\n",
       "    }\n",
       "</style>\n",
       "<table border=\"1\" class=\"dataframe\">\n",
       "  <thead>\n",
       "    <tr style=\"text-align: right;\">\n",
       "      <th></th>\n",
       "      <th>CAL</th>\n",
       "      <th>CNC</th>\n",
       "      <th>GR</th>\n",
       "      <th>HRD</th>\n",
       "      <th>HRM</th>\n",
       "      <th>PE</th>\n",
       "      <th>ZDEN</th>\n",
       "      <th>DTC</th>\n",
       "      <th>DTS</th>\n",
       "      <th>NGR</th>\n",
       "      <th>IGR</th>\n",
       "    </tr>\n",
       "  </thead>\n",
       "  <tbody>\n",
       "    <tr>\n",
       "      <th>573</th>\n",
       "      <td>14.8824</td>\n",
       "      <td>0.5173</td>\n",
       "      <td>57.1903</td>\n",
       "      <td>0.297235</td>\n",
       "      <td>1.9726</td>\n",
       "      <td>27.9432</td>\n",
       "      <td>2.3510</td>\n",
       "      <td>125.9611</td>\n",
       "      <td>306.8676</td>\n",
       "      <td>7.643731</td>\n",
       "      <td>0.038219</td>\n",
       "    </tr>\n",
       "    <tr>\n",
       "      <th>574</th>\n",
       "      <td>14.9570</td>\n",
       "      <td>0.4966</td>\n",
       "      <td>63.1593</td>\n",
       "      <td>0.311160</td>\n",
       "      <td>1.6373</td>\n",
       "      <td>28.1064</td>\n",
       "      <td>2.4055</td>\n",
       "      <td>125.9726</td>\n",
       "      <td>305.8347</td>\n",
       "      <td>8.456274</td>\n",
       "      <td>0.042281</td>\n",
       "    </tr>\n",
       "    <tr>\n",
       "      <th>575</th>\n",
       "      <td>14.6341</td>\n",
       "      <td>0.4433</td>\n",
       "      <td>64.5217</td>\n",
       "      <td>0.310991</td>\n",
       "      <td>1.4866</td>\n",
       "      <td>26.5968</td>\n",
       "      <td>2.4579</td>\n",
       "      <td>125.8528</td>\n",
       "      <td>305.9089</td>\n",
       "      <td>8.641733</td>\n",
       "      <td>0.043209</td>\n",
       "    </tr>\n",
       "    <tr>\n",
       "      <th>576</th>\n",
       "      <td>14.2318</td>\n",
       "      <td>0.4309</td>\n",
       "      <td>63.0144</td>\n",
       "      <td>0.302201</td>\n",
       "      <td>1.4613</td>\n",
       "      <td>19.5635</td>\n",
       "      <td>2.4219</td>\n",
       "      <td>125.7362</td>\n",
       "      <td>305.1737</td>\n",
       "      <td>8.436549</td>\n",
       "      <td>0.042183</td>\n",
       "    </tr>\n",
       "    <tr>\n",
       "      <th>577</th>\n",
       "      <td>14.0163</td>\n",
       "      <td>0.4469</td>\n",
       "      <td>60.8421</td>\n",
       "      <td>0.290769</td>\n",
       "      <td>1.4438</td>\n",
       "      <td>9.8556</td>\n",
       "      <td>2.3138</td>\n",
       "      <td>125.9774</td>\n",
       "      <td>304.4476</td>\n",
       "      <td>8.140840</td>\n",
       "      <td>0.040704</td>\n",
       "    </tr>\n",
       "    <tr>\n",
       "      <th>...</th>\n",
       "      <td>...</td>\n",
       "      <td>...</td>\n",
       "      <td>...</td>\n",
       "      <td>...</td>\n",
       "      <td>...</td>\n",
       "      <td>...</td>\n",
       "      <td>...</td>\n",
       "      <td>...</td>\n",
       "      <td>...</td>\n",
       "      <td>...</td>\n",
       "      <td>...</td>\n",
       "    </tr>\n",
       "    <tr>\n",
       "      <th>30138</th>\n",
       "      <td>8.6719</td>\n",
       "      <td>0.1879</td>\n",
       "      <td>119.9486</td>\n",
       "      <td>0.400192</td>\n",
       "      <td>2.5187</td>\n",
       "      <td>0.0597</td>\n",
       "      <td>2.6240</td>\n",
       "      <td>74.2133</td>\n",
       "      <td>131.7747</td>\n",
       "      <td>16.186840</td>\n",
       "      <td>0.080934</td>\n",
       "    </tr>\n",
       "    <tr>\n",
       "      <th>30139</th>\n",
       "      <td>8.6719</td>\n",
       "      <td>0.1825</td>\n",
       "      <td>122.5286</td>\n",
       "      <td>0.398131</td>\n",
       "      <td>2.4818</td>\n",
       "      <td>0.0582</td>\n",
       "      <td>2.6194</td>\n",
       "      <td>74.3503</td>\n",
       "      <td>132.2201</td>\n",
       "      <td>16.538048</td>\n",
       "      <td>0.082690</td>\n",
       "    </tr>\n",
       "    <tr>\n",
       "      <th>30140</th>\n",
       "      <td>8.6797</td>\n",
       "      <td>0.1774</td>\n",
       "      <td>122.0544</td>\n",
       "      <td>0.398114</td>\n",
       "      <td>2.4717</td>\n",
       "      <td>0.0571</td>\n",
       "      <td>2.6169</td>\n",
       "      <td>74.4752</td>\n",
       "      <td>132.5171</td>\n",
       "      <td>16.473497</td>\n",
       "      <td>0.082367</td>\n",
       "    </tr>\n",
       "    <tr>\n",
       "      <th>30141</th>\n",
       "      <td>8.6719</td>\n",
       "      <td>0.1744</td>\n",
       "      <td>120.6518</td>\n",
       "      <td>0.400538</td>\n",
       "      <td>2.5007</td>\n",
       "      <td>0.0562</td>\n",
       "      <td>2.6159</td>\n",
       "      <td>74.5917</td>\n",
       "      <td>132.7115</td>\n",
       "      <td>16.282565</td>\n",
       "      <td>0.081413</td>\n",
       "    </tr>\n",
       "    <tr>\n",
       "      <th>30142</th>\n",
       "      <td>8.6719</td>\n",
       "      <td>0.1742</td>\n",
       "      <td>120.5270</td>\n",
       "      <td>0.401590</td>\n",
       "      <td>2.5068</td>\n",
       "      <td>0.0552</td>\n",
       "      <td>2.6155</td>\n",
       "      <td>74.7082</td>\n",
       "      <td>132.9060</td>\n",
       "      <td>16.265576</td>\n",
       "      <td>0.081328</td>\n",
       "    </tr>\n",
       "  </tbody>\n",
       "</table>\n",
       "<p>20525 rows × 11 columns</p>\n",
       "</div>"
      ],
      "text/plain": [
       "           CAL     CNC        GR       HRD     HRM       PE    ZDEN       DTC  \\\n",
       "573    14.8824  0.5173   57.1903  0.297235  1.9726  27.9432  2.3510  125.9611   \n",
       "574    14.9570  0.4966   63.1593  0.311160  1.6373  28.1064  2.4055  125.9726   \n",
       "575    14.6341  0.4433   64.5217  0.310991  1.4866  26.5968  2.4579  125.8528   \n",
       "576    14.2318  0.4309   63.0144  0.302201  1.4613  19.5635  2.4219  125.7362   \n",
       "577    14.0163  0.4469   60.8421  0.290769  1.4438   9.8556  2.3138  125.9774   \n",
       "...        ...     ...       ...       ...     ...      ...     ...       ...   \n",
       "30138   8.6719  0.1879  119.9486  0.400192  2.5187   0.0597  2.6240   74.2133   \n",
       "30139   8.6719  0.1825  122.5286  0.398131  2.4818   0.0582  2.6194   74.3503   \n",
       "30140   8.6797  0.1774  122.0544  0.398114  2.4717   0.0571  2.6169   74.4752   \n",
       "30141   8.6719  0.1744  120.6518  0.400538  2.5007   0.0562  2.6159   74.5917   \n",
       "30142   8.6719  0.1742  120.5270  0.401590  2.5068   0.0552  2.6155   74.7082   \n",
       "\n",
       "            DTS        NGR       IGR  \n",
       "573    306.8676   7.643731  0.038219  \n",
       "574    305.8347   8.456274  0.042281  \n",
       "575    305.9089   8.641733  0.043209  \n",
       "576    305.1737   8.436549  0.042183  \n",
       "577    304.4476   8.140840  0.040704  \n",
       "...         ...        ...       ...  \n",
       "30138  131.7747  16.186840  0.080934  \n",
       "30139  132.2201  16.538048  0.082690  \n",
       "30140  132.5171  16.473497  0.082367  \n",
       "30141  132.7115  16.282565  0.081413  \n",
       "30142  132.9060  16.265576  0.081328  \n",
       "\n",
       "[20525 rows x 11 columns]"
      ]
     },
     "execution_count": 6,
     "metadata": {},
     "output_type": "execute_result"
    }
   ],
   "source": [
    "train"
   ]
  },
  {
   "cell_type": "code",
   "execution_count": 10,
   "metadata": {},
   "outputs": [
    {
     "data": {
      "text/html": [
       "<div>\n",
       "<style scoped>\n",
       "    .dataframe tbody tr th:only-of-type {\n",
       "        vertical-align: middle;\n",
       "    }\n",
       "\n",
       "    .dataframe tbody tr th {\n",
       "        vertical-align: top;\n",
       "    }\n",
       "\n",
       "    .dataframe thead th {\n",
       "        text-align: right;\n",
       "    }\n",
       "</style>\n",
       "<table border=\"1\" class=\"dataframe\">\n",
       "  <thead>\n",
       "    <tr style=\"text-align: right;\">\n",
       "      <th></th>\n",
       "      <th>CAL</th>\n",
       "      <th>CNC</th>\n",
       "      <th>GR</th>\n",
       "      <th>HRD</th>\n",
       "      <th>HRM</th>\n",
       "      <th>PE</th>\n",
       "      <th>ZDEN</th>\n",
       "      <th>DTC</th>\n",
       "      <th>DTS</th>\n",
       "      <th>NGR</th>\n",
       "      <th>IGR</th>\n",
       "    </tr>\n",
       "  </thead>\n",
       "  <tbody>\n",
       "    <tr>\n",
       "      <th>573</th>\n",
       "      <td>14.8824</td>\n",
       "      <td>0.5173</td>\n",
       "      <td>57.1903</td>\n",
       "      <td>0.297235</td>\n",
       "      <td>1.9726</td>\n",
       "      <td>27.9432</td>\n",
       "      <td>2.3510</td>\n",
       "      <td>125.9611</td>\n",
       "      <td>306.8676</td>\n",
       "      <td>7.643731</td>\n",
       "      <td>0.038219</td>\n",
       "    </tr>\n",
       "    <tr>\n",
       "      <th>574</th>\n",
       "      <td>14.9570</td>\n",
       "      <td>0.4966</td>\n",
       "      <td>63.1593</td>\n",
       "      <td>0.311160</td>\n",
       "      <td>1.6373</td>\n",
       "      <td>28.1064</td>\n",
       "      <td>2.4055</td>\n",
       "      <td>125.9726</td>\n",
       "      <td>305.8347</td>\n",
       "      <td>8.456274</td>\n",
       "      <td>0.042281</td>\n",
       "    </tr>\n",
       "    <tr>\n",
       "      <th>575</th>\n",
       "      <td>14.6341</td>\n",
       "      <td>0.4433</td>\n",
       "      <td>64.5217</td>\n",
       "      <td>0.310991</td>\n",
       "      <td>1.4866</td>\n",
       "      <td>26.5968</td>\n",
       "      <td>2.4579</td>\n",
       "      <td>125.8528</td>\n",
       "      <td>305.9089</td>\n",
       "      <td>8.641733</td>\n",
       "      <td>0.043209</td>\n",
       "    </tr>\n",
       "    <tr>\n",
       "      <th>576</th>\n",
       "      <td>14.2318</td>\n",
       "      <td>0.4309</td>\n",
       "      <td>63.0144</td>\n",
       "      <td>0.302201</td>\n",
       "      <td>1.4613</td>\n",
       "      <td>19.5635</td>\n",
       "      <td>2.4219</td>\n",
       "      <td>125.7362</td>\n",
       "      <td>305.1737</td>\n",
       "      <td>8.436549</td>\n",
       "      <td>0.042183</td>\n",
       "    </tr>\n",
       "    <tr>\n",
       "      <th>577</th>\n",
       "      <td>14.0163</td>\n",
       "      <td>0.4469</td>\n",
       "      <td>60.8421</td>\n",
       "      <td>0.290769</td>\n",
       "      <td>1.4438</td>\n",
       "      <td>9.8556</td>\n",
       "      <td>2.3138</td>\n",
       "      <td>125.9774</td>\n",
       "      <td>304.4476</td>\n",
       "      <td>8.140840</td>\n",
       "      <td>0.040704</td>\n",
       "    </tr>\n",
       "  </tbody>\n",
       "</table>\n",
       "</div>"
      ],
      "text/plain": [
       "         CAL     CNC       GR       HRD     HRM       PE    ZDEN       DTC  \\\n",
       "573  14.8824  0.5173  57.1903  0.297235  1.9726  27.9432  2.3510  125.9611   \n",
       "574  14.9570  0.4966  63.1593  0.311160  1.6373  28.1064  2.4055  125.9726   \n",
       "575  14.6341  0.4433  64.5217  0.310991  1.4866  26.5968  2.4579  125.8528   \n",
       "576  14.2318  0.4309  63.0144  0.302201  1.4613  19.5635  2.4219  125.7362   \n",
       "577  14.0163  0.4469  60.8421  0.290769  1.4438   9.8556  2.3138  125.9774   \n",
       "\n",
       "          DTS       NGR       IGR  \n",
       "573  306.8676  7.643731  0.038219  \n",
       "574  305.8347  8.456274  0.042281  \n",
       "575  305.9089  8.641733  0.043209  \n",
       "576  305.1737  8.436549  0.042183  \n",
       "577  304.4476  8.140840  0.040704  "
      ]
     },
     "execution_count": 10,
     "metadata": {},
     "output_type": "execute_result"
    }
   ],
   "source": [
    "train.head()"
   ]
  },
  {
   "cell_type": "code",
   "execution_count": 8,
   "metadata": {},
   "outputs": [
    {
     "data": {
      "text/html": [
       "<div>\n",
       "<style scoped>\n",
       "    .dataframe tbody tr th:only-of-type {\n",
       "        vertical-align: middle;\n",
       "    }\n",
       "\n",
       "    .dataframe tbody tr th {\n",
       "        vertical-align: top;\n",
       "    }\n",
       "\n",
       "    .dataframe thead th {\n",
       "        text-align: right;\n",
       "    }\n",
       "</style>\n",
       "<table border=\"1\" class=\"dataframe\">\n",
       "  <thead>\n",
       "    <tr style=\"text-align: right;\">\n",
       "      <th></th>\n",
       "      <th>CAL</th>\n",
       "      <th>CNC</th>\n",
       "      <th>GR</th>\n",
       "      <th>HRD</th>\n",
       "      <th>HRM</th>\n",
       "      <th>PE</th>\n",
       "      <th>ZDEN</th>\n",
       "      <th>DTC</th>\n",
       "      <th>DTS</th>\n",
       "      <th>NGR</th>\n",
       "      <th>IGR</th>\n",
       "    </tr>\n",
       "  </thead>\n",
       "  <tbody>\n",
       "    <tr>\n",
       "      <th>0</th>\n",
       "      <td>8.6719</td>\n",
       "      <td>0.1199</td>\n",
       "      <td>6.7518</td>\n",
       "      <td>0.451556</td>\n",
       "      <td>3.0391</td>\n",
       "      <td>8.4395</td>\n",
       "      <td>2.5191</td>\n",
       "      <td>67.5481</td>\n",
       "      <td>124.2332</td>\n",
       "      <td>1.103719</td>\n",
       "      <td>0.005519</td>\n",
       "    </tr>\n",
       "    <tr>\n",
       "      <th>1</th>\n",
       "      <td>8.6719</td>\n",
       "      <td>0.3180</td>\n",
       "      <td>165.4345</td>\n",
       "      <td>0.119586</td>\n",
       "      <td>1.2206</td>\n",
       "      <td>7.1354</td>\n",
       "      <td>2.5517</td>\n",
       "      <td>101.5208</td>\n",
       "      <td>201.2649</td>\n",
       "      <td>32.851151</td>\n",
       "      <td>0.164256</td>\n",
       "    </tr>\n",
       "    <tr>\n",
       "      <th>2</th>\n",
       "      <td>8.7031</td>\n",
       "      <td>0.3164</td>\n",
       "      <td>58.3146</td>\n",
       "      <td>0.065468</td>\n",
       "      <td>1.8947</td>\n",
       "      <td>8.1722</td>\n",
       "      <td>2.4452</td>\n",
       "      <td>110.8297</td>\n",
       "      <td>250.7232</td>\n",
       "      <td>11.419818</td>\n",
       "      <td>0.057099</td>\n",
       "    </tr>\n",
       "    <tr>\n",
       "      <th>3</th>\n",
       "      <td>8.6250</td>\n",
       "      <td>0.1527</td>\n",
       "      <td>44.5126</td>\n",
       "      <td>0.403429</td>\n",
       "      <td>3.0052</td>\n",
       "      <td>7.6534</td>\n",
       "      <td>2.5674</td>\n",
       "      <td>80.0383</td>\n",
       "      <td>147.3262</td>\n",
       "      <td>8.658471</td>\n",
       "      <td>0.043292</td>\n",
       "    </tr>\n",
       "    <tr>\n",
       "      <th>4</th>\n",
       "      <td>8.6250</td>\n",
       "      <td>0.1731</td>\n",
       "      <td>16.1563</td>\n",
       "      <td>1.130597</td>\n",
       "      <td>13.0191</td>\n",
       "      <td>5.1534</td>\n",
       "      <td>2.2164</td>\n",
       "      <td>85.6109</td>\n",
       "      <td>134.4386</td>\n",
       "      <td>2.985264</td>\n",
       "      <td>0.014926</td>\n",
       "    </tr>\n",
       "  </tbody>\n",
       "</table>\n",
       "</div>"
      ],
      "text/plain": [
       "      CAL     CNC        GR       HRD      HRM      PE    ZDEN       DTC  \\\n",
       "0  8.6719  0.1199    6.7518  0.451556   3.0391  8.4395  2.5191   67.5481   \n",
       "1  8.6719  0.3180  165.4345  0.119586   1.2206  7.1354  2.5517  101.5208   \n",
       "2  8.7031  0.3164   58.3146  0.065468   1.8947  8.1722  2.4452  110.8297   \n",
       "3  8.6250  0.1527   44.5126  0.403429   3.0052  7.6534  2.5674   80.0383   \n",
       "4  8.6250  0.1731   16.1563  1.130597  13.0191  5.1534  2.2164   85.6109   \n",
       "\n",
       "        DTS        NGR       IGR  \n",
       "0  124.2332   1.103719  0.005519  \n",
       "1  201.2649  32.851151  0.164256  \n",
       "2  250.7232  11.419818  0.057099  \n",
       "3  147.3262   8.658471  0.043292  \n",
       "4  134.4386   2.985264  0.014926  "
      ]
     },
     "execution_count": 8,
     "metadata": {},
     "output_type": "execute_result"
    }
   ],
   "source": [
    "test.head()"
   ]
  },
  {
   "cell_type": "code",
   "execution_count": 9,
   "metadata": {},
   "outputs": [
    {
     "data": {
      "text/html": [
       "<div>\n",
       "<style scoped>\n",
       "    .dataframe tbody tr th:only-of-type {\n",
       "        vertical-align: middle;\n",
       "    }\n",
       "\n",
       "    .dataframe tbody tr th {\n",
       "        vertical-align: top;\n",
       "    }\n",
       "\n",
       "    .dataframe thead th {\n",
       "        text-align: right;\n",
       "    }\n",
       "</style>\n",
       "<table border=\"1\" class=\"dataframe\">\n",
       "  <thead>\n",
       "    <tr style=\"text-align: right;\">\n",
       "      <th></th>\n",
       "      <th>CAL</th>\n",
       "      <th>CNC</th>\n",
       "      <th>HRD</th>\n",
       "      <th>HRM</th>\n",
       "      <th>PE</th>\n",
       "      <th>ZDEN</th>\n",
       "      <th>IGR</th>\n",
       "      <th>NGR</th>\n",
       "    </tr>\n",
       "  </thead>\n",
       "  <tbody>\n",
       "    <tr>\n",
       "      <th>0</th>\n",
       "      <td>8.5781</td>\n",
       "      <td>0.3521</td>\n",
       "      <td>-0.090390</td>\n",
       "      <td>0.7810</td>\n",
       "      <td>6.8291</td>\n",
       "      <td>2.3256</td>\n",
       "      <td>0.048354</td>\n",
       "      <td>9.670859</td>\n",
       "    </tr>\n",
       "    <tr>\n",
       "      <th>1</th>\n",
       "      <td>8.5781</td>\n",
       "      <td>0.3639</td>\n",
       "      <td>-0.094852</td>\n",
       "      <td>0.7723</td>\n",
       "      <td>6.8100</td>\n",
       "      <td>2.3255</td>\n",
       "      <td>0.049982</td>\n",
       "      <td>9.996422</td>\n",
       "    </tr>\n",
       "    <tr>\n",
       "      <th>2</th>\n",
       "      <td>8.5781</td>\n",
       "      <td>0.3703</td>\n",
       "      <td>-0.128194</td>\n",
       "      <td>0.7048</td>\n",
       "      <td>6.7766</td>\n",
       "      <td>2.3212</td>\n",
       "      <td>0.051686</td>\n",
       "      <td>10.337276</td>\n",
       "    </tr>\n",
       "    <tr>\n",
       "      <th>3</th>\n",
       "      <td>8.5625</td>\n",
       "      <td>0.3667</td>\n",
       "      <td>-0.144541</td>\n",
       "      <td>0.6542</td>\n",
       "      <td>6.7219</td>\n",
       "      <td>2.3119</td>\n",
       "      <td>0.050266</td>\n",
       "      <td>10.053276</td>\n",
       "    </tr>\n",
       "    <tr>\n",
       "      <th>4</th>\n",
       "      <td>8.5781</td>\n",
       "      <td>0.3500</td>\n",
       "      <td>-0.164627</td>\n",
       "      <td>0.6109</td>\n",
       "      <td>6.6384</td>\n",
       "      <td>2.2982</td>\n",
       "      <td>0.046467</td>\n",
       "      <td>9.293497</td>\n",
       "    </tr>\n",
       "  </tbody>\n",
       "</table>\n",
       "</div>"
      ],
      "text/plain": [
       "      CAL     CNC       HRD     HRM      PE    ZDEN       IGR        NGR\n",
       "0  8.5781  0.3521 -0.090390  0.7810  6.8291  2.3256  0.048354   9.670859\n",
       "1  8.5781  0.3639 -0.094852  0.7723  6.8100  2.3255  0.049982   9.996422\n",
       "2  8.5781  0.3703 -0.128194  0.7048  6.7766  2.3212  0.051686  10.337276\n",
       "3  8.5625  0.3667 -0.144541  0.6542  6.7219  2.3119  0.050266  10.053276\n",
       "4  8.5781  0.3500 -0.164627  0.6109  6.6384  2.2982  0.046467   9.293497"
      ]
     },
     "execution_count": 9,
     "metadata": {},
     "output_type": "execute_result"
    }
   ],
   "source": [
    "test2.head()"
   ]
  },
  {
   "cell_type": "code",
   "execution_count": 7,
   "metadata": {
    "colab": {},
    "colab_type": "code",
    "id": "exn28FD1GdmB"
   },
   "outputs": [],
   "source": [
    "\n",
    "X,y=train[['CAL', 'CNC', 'HRD', 'HRM', 'PE', 'ZDEN','IGR','NGR']],train[['DTC', 'DTS']]\n",
    "test2=test2[X.columns]\n",
    "X_train, X_test, y_train, y_test =X,test[X.columns],y,test[y.columns] \n",
    "\n",
    "#X['LI']=np.where(X['GR']>70,1,0)\n",
    "#X=X.values\n",
    "#y=y.values"
   ]
  },
  {
   "cell_type": "code",
   "execution_count": null,
   "metadata": {
    "colab": {
     "base_uri": "https://localhost:8080/",
     "height": 419
    },
    "colab_type": "code",
    "id": "AveDDI4pG8M7",
    "outputId": "c37d4773-14d0-40e9-b9c5-76938978ee9b"
   },
   "outputs": [
    {
     "data": {
      "text/html": [
       "<div>\n",
       "<style scoped>\n",
       "    .dataframe tbody tr th:only-of-type {\n",
       "        vertical-align: middle;\n",
       "    }\n",
       "\n",
       "    .dataframe tbody tr th {\n",
       "        vertical-align: top;\n",
       "    }\n",
       "\n",
       "    .dataframe thead th {\n",
       "        text-align: right;\n",
       "    }\n",
       "</style>\n",
       "<table border=\"1\" class=\"dataframe\">\n",
       "  <thead>\n",
       "    <tr style=\"text-align: right;\">\n",
       "      <th></th>\n",
       "      <th>CAL</th>\n",
       "      <th>CNC</th>\n",
       "      <th>GR</th>\n",
       "      <th>HRD</th>\n",
       "      <th>HRM</th>\n",
       "      <th>PE</th>\n",
       "      <th>ZDEN</th>\n",
       "      <th>DTC</th>\n",
       "      <th>DTS</th>\n",
       "      <th>IGR</th>\n",
       "    </tr>\n",
       "  </thead>\n",
       "  <tbody>\n",
       "    <tr>\n",
       "      <th>573</th>\n",
       "      <td>14.8824</td>\n",
       "      <td>0.5173</td>\n",
       "      <td>1.757322</td>\n",
       "      <td>0.297235</td>\n",
       "      <td>0.295039</td>\n",
       "      <td>27.9432</td>\n",
       "      <td>2.3510</td>\n",
       "      <td>125.9611</td>\n",
       "      <td>306.8676</td>\n",
       "      <td>0.552475</td>\n",
       "    </tr>\n",
       "    <tr>\n",
       "      <th>574</th>\n",
       "      <td>14.9570</td>\n",
       "      <td>0.4966</td>\n",
       "      <td>1.800437</td>\n",
       "      <td>0.311160</td>\n",
       "      <td>0.214128</td>\n",
       "      <td>28.1064</td>\n",
       "      <td>2.4055</td>\n",
       "      <td>125.9726</td>\n",
       "      <td>305.8347</td>\n",
       "      <td>0.566159</td>\n",
       "    </tr>\n",
       "    <tr>\n",
       "      <th>575</th>\n",
       "      <td>14.6341</td>\n",
       "      <td>0.4433</td>\n",
       "      <td>1.809706</td>\n",
       "      <td>0.310991</td>\n",
       "      <td>0.172194</td>\n",
       "      <td>26.5968</td>\n",
       "      <td>2.4579</td>\n",
       "      <td>125.8528</td>\n",
       "      <td>305.9089</td>\n",
       "      <td>0.569100</td>\n",
       "    </tr>\n",
       "    <tr>\n",
       "      <th>576</th>\n",
       "      <td>14.2318</td>\n",
       "      <td>0.4309</td>\n",
       "      <td>1.799440</td>\n",
       "      <td>0.302201</td>\n",
       "      <td>0.164739</td>\n",
       "      <td>19.5635</td>\n",
       "      <td>2.4219</td>\n",
       "      <td>125.7362</td>\n",
       "      <td>305.1737</td>\n",
       "      <td>0.565842</td>\n",
       "    </tr>\n",
       "    <tr>\n",
       "      <th>577</th>\n",
       "      <td>14.0163</td>\n",
       "      <td>0.4469</td>\n",
       "      <td>1.784204</td>\n",
       "      <td>0.290769</td>\n",
       "      <td>0.159507</td>\n",
       "      <td>9.8556</td>\n",
       "      <td>2.3138</td>\n",
       "      <td>125.9774</td>\n",
       "      <td>304.4476</td>\n",
       "      <td>0.561007</td>\n",
       "    </tr>\n",
       "    <tr>\n",
       "      <th>...</th>\n",
       "      <td>...</td>\n",
       "      <td>...</td>\n",
       "      <td>...</td>\n",
       "      <td>...</td>\n",
       "      <td>...</td>\n",
       "      <td>...</td>\n",
       "      <td>...</td>\n",
       "      <td>...</td>\n",
       "      <td>...</td>\n",
       "      <td>...</td>\n",
       "    </tr>\n",
       "    <tr>\n",
       "      <th>30138</th>\n",
       "      <td>8.6719</td>\n",
       "      <td>0.1879</td>\n",
       "      <td>2.078995</td>\n",
       "      <td>0.400192</td>\n",
       "      <td>0.401176</td>\n",
       "      <td>0.0597</td>\n",
       "      <td>2.6240</td>\n",
       "      <td>74.2133</td>\n",
       "      <td>131.7747</td>\n",
       "      <td>0.654567</td>\n",
       "    </tr>\n",
       "    <tr>\n",
       "      <th>30139</th>\n",
       "      <td>8.6719</td>\n",
       "      <td>0.1825</td>\n",
       "      <td>2.088237</td>\n",
       "      <td>0.398131</td>\n",
       "      <td>0.394767</td>\n",
       "      <td>0.0582</td>\n",
       "      <td>2.6194</td>\n",
       "      <td>74.3503</td>\n",
       "      <td>132.2201</td>\n",
       "      <td>0.657500</td>\n",
       "    </tr>\n",
       "    <tr>\n",
       "      <th>30140</th>\n",
       "      <td>8.6797</td>\n",
       "      <td>0.1774</td>\n",
       "      <td>2.086553</td>\n",
       "      <td>0.398114</td>\n",
       "      <td>0.392996</td>\n",
       "      <td>0.0571</td>\n",
       "      <td>2.6169</td>\n",
       "      <td>74.4752</td>\n",
       "      <td>132.5171</td>\n",
       "      <td>0.656966</td>\n",
       "    </tr>\n",
       "    <tr>\n",
       "      <th>30141</th>\n",
       "      <td>8.6719</td>\n",
       "      <td>0.1744</td>\n",
       "      <td>2.081534</td>\n",
       "      <td>0.400538</td>\n",
       "      <td>0.398062</td>\n",
       "      <td>0.0562</td>\n",
       "      <td>2.6159</td>\n",
       "      <td>74.5917</td>\n",
       "      <td>132.7115</td>\n",
       "      <td>0.655373</td>\n",
       "    </tr>\n",
       "    <tr>\n",
       "      <th>30142</th>\n",
       "      <td>8.6719</td>\n",
       "      <td>0.1742</td>\n",
       "      <td>2.081084</td>\n",
       "      <td>0.401590</td>\n",
       "      <td>0.399120</td>\n",
       "      <td>0.0552</td>\n",
       "      <td>2.6155</td>\n",
       "      <td>74.7082</td>\n",
       "      <td>132.9060</td>\n",
       "      <td>0.655230</td>\n",
       "    </tr>\n",
       "  </tbody>\n",
       "</table>\n",
       "<p>20525 rows × 10 columns</p>\n",
       "</div>"
      ],
      "text/plain": [
       "           CAL     CNC        GR  ...       DTC       DTS       IGR\n",
       "573    14.8824  0.5173  1.757322  ...  125.9611  306.8676  0.552475\n",
       "574    14.9570  0.4966  1.800437  ...  125.9726  305.8347  0.566159\n",
       "575    14.6341  0.4433  1.809706  ...  125.8528  305.9089  0.569100\n",
       "576    14.2318  0.4309  1.799440  ...  125.7362  305.1737  0.565842\n",
       "577    14.0163  0.4469  1.784204  ...  125.9774  304.4476  0.561007\n",
       "...        ...     ...       ...  ...       ...       ...       ...\n",
       "30138   8.6719  0.1879  2.078995  ...   74.2133  131.7747  0.654567\n",
       "30139   8.6719  0.1825  2.088237  ...   74.3503  132.2201  0.657500\n",
       "30140   8.6797  0.1774  2.086553  ...   74.4752  132.5171  0.656966\n",
       "30141   8.6719  0.1744  2.081534  ...   74.5917  132.7115  0.655373\n",
       "30142   8.6719  0.1742  2.081084  ...   74.7082  132.9060  0.655230\n",
       "\n",
       "[20525 rows x 10 columns]"
      ]
     },
     "execution_count": 153,
     "metadata": {
      "tags": []
     },
     "output_type": "execute_result"
    }
   ],
   "source": [
    "train"
   ]
  },
  {
   "cell_type": "code",
   "execution_count": null,
   "metadata": {
    "colab": {
     "base_uri": "https://localhost:8080/",
     "height": 34
    },
    "colab_type": "code",
    "id": "dPckITtOM-l9",
    "outputId": "4a463af1-304f-435a-bbaa-2cc3a39004b9"
   },
   "outputs": [
    {
     "data": {
      "text/plain": [
       "(0, 7)"
      ]
     },
     "execution_count": 140,
     "metadata": {
      "tags": []
     },
     "output_type": "execute_result"
    }
   ],
   "source": [
    "X_train.shape"
   ]
  },
  {
   "cell_type": "code",
   "execution_count": null,
   "metadata": {
    "colab": {},
    "colab_type": "code",
    "id": "ooARCU-bI8w6"
   },
   "outputs": [],
   "source": []
  },
  {
   "cell_type": "code",
   "execution_count": null,
   "metadata": {
    "colab": {},
    "colab_type": "code",
    "id": "ZIe1EQhoLb4v"
   },
   "outputs": [],
   "source": []
  },
  {
   "cell_type": "code",
   "execution_count": null,
   "metadata": {
    "colab": {},
    "colab_type": "code",
    "id": "I5_uiGXgF5jf"
   },
   "outputs": [],
   "source": []
  },
  {
   "cell_type": "code",
   "execution_count": null,
   "metadata": {
    "colab": {},
    "colab_type": "code",
    "id": "ttWBGVdWLEyN"
   },
   "outputs": [],
   "source": [
    "\n",
    "#X_train, X_test, y_train, y_test =X,test[X.columns],y,test[y.columns] #train_test_split(X, y, random_state=0)\n",
    "scaler=StandardScaler().fit(X_train)\n",
    "X_train=scaler.transform(X_train)\n",
    "X_test=scaler.transform(X_test)\n",
    "\n"
   ]
  },
  {
   "cell_type": "code",
   "execution_count": null,
   "metadata": {
    "colab": {},
    "colab_type": "code",
    "id": "mp1-a5PZNozl"
   },
   "outputs": [],
   "source": [
    "\n"
   ]
  },
  {
   "cell_type": "code",
   "execution_count": null,
   "metadata": {
    "colab": {
     "base_uri": "https://localhost:8080/",
     "height": 85
    },
    "colab_type": "code",
    "id": "pwLhaWJVLSnM",
    "outputId": "1898b861-51ad-4714-ca33-7f5130ff4476"
   },
   "outputs": [
    {
     "data": {
      "text/plain": [
       "{'estimator__C': 10,\n",
       " 'estimator__epsilon': 0.5,\n",
       " 'estimator__gamma': 0.0001,\n",
       " 'estimator__kernel': 'rbf'}"
      ]
     },
     "execution_count": 12,
     "metadata": {
      "tags": []
     },
     "output_type": "execute_result"
    }
   ],
   "source": [
    "parameters = {'estimator__kernel': ('linear', 'rbf','poly'), 'estimator__C':[1.5, 10],'estimator__gamma': [1e-7, 1e-4],'estimator__epsilon':[0.1,0.2,0.5,0.3]}\n",
    "svr =MultiOutputRegressor(SVR())\n",
    "clf = RandomizedSearchCV(svr, parameters,n_jobs=-1,cv=5,scoring='neg_mean_squared_error')\n",
    "clf.fit(Xscaled_train,y_train)\n",
    "clf.best_params_"
   ]
  },
  {
   "cell_type": "code",
   "execution_count": null,
   "metadata": {
    "colab": {
     "base_uri": "https://localhost:8080/",
     "height": 34
    },
    "colab_type": "code",
    "id": "Ztuo8RgwLyDA",
    "outputId": "bee739e9-123b-44b6-93d2-a0f7e904e867"
   },
   "outputs": [
    {
     "name": "stdout",
     "output_type": "stream",
     "text": [
      "MAE: 28.410401\n"
     ]
    }
   ],
   "source": [
    "predict=clf.predict(Xscaled_test)\n",
    "rmse = np.sqrt(mean_squared_error(y_test, predict))\n",
    "print(\"MAE: %f\" % (rmse))"
   ]
  },
  {
   "cell_type": "code",
   "execution_count": null,
   "metadata": {
    "colab": {},
    "colab_type": "code",
    "id": "CEgzbp25Mjxu"
   },
   "outputs": [],
   "source": [
    "predict=xgb.predict(X_test)"
   ]
  },
  {
   "cell_type": "code",
   "execution_count": null,
   "metadata": {
    "colab": {
     "base_uri": "https://localhost:8080/",
     "height": 102
    },
    "colab_type": "code",
    "id": "z28-YS8SMxAO",
    "outputId": "4df66ba7-acd2-4964-9ce1-8b290524de37"
   },
   "outputs": [
    {
     "name": "stdout",
     "output_type": "stream",
     "text": [
      "RMSE: 85.671998\n",
      "\n",
      "\n",
      "\n",
      "\n"
     ]
    }
   ],
   "source": [
    "rmse = np.sqrt(mean_squared_error(y_test, predict))\n",
    "print(\"RMSE: %f\" % (rmse))\n",
    "print('\\n')\n",
    "#print(\"Classification Report\", classification_report(y_test,predict))\n",
    "print('\\n')\n",
    "#print(\"Confusion Matrics\", confusion_matrix(y_test,predict))"
   ]
  },
  {
   "cell_type": "code",
   "execution_count": null,
   "metadata": {
    "colab": {},
    "colab_type": "code",
    "id": "CPtpCxyJOFoM"
   },
   "outputs": [],
   "source": [
    "param_test1={'estimator__max_depth':range(1,10),'estimator__min_child_weight': range(1,6),'estimator__learning_rate':[i/10.0 for i in range(0,6)],'estimator__n_estimators':(80,100,120,140,),'estimator__gamma':[i/10.0 for i in range(0,5)],'estimator__subsample':(0.8,0.9,0.7),'estimator__colsample_bytree':(0.8,0.7), 'estimator__objective':('reg:linear','reg:squarederror',),'estimator__nthread':(4,), 'estimator__scale_pos_weight':(1,),'estimator__seed':(27,)}\n"
   ]
  },
  {
   "cell_type": "code",
   "execution_count": null,
   "metadata": {
    "colab": {
     "base_uri": "https://localhost:8080/",
     "height": 1000
    },
    "colab_type": "code",
    "id": "7HfPu_5wOWp7",
    "outputId": "f1fdf685-be1c-40cf-cb1e-55f438b42f81"
   },
   "outputs": [
    {
     "name": "stderr",
     "output_type": "stream",
     "text": [
      "/usr/local/lib/python3.6/dist-packages/sklearn/model_selection/_search.py:823: FutureWarning: The parameter 'iid' is deprecated in 0.22 and will be removed in 0.24.\n",
      "  \"removed in 0.24.\", FutureWarning\n"
     ]
    },
    {
     "data": {
      "text/plain": [
       "({'mean_fit_time': array([9.05638857, 7.54878416, 6.7941361 , 3.12290277, 5.45981317,\n",
       "         2.21655922, 7.54049287, 2.69735246, 8.16378884, 2.99843392]),\n",
       "  'mean_score_time': array([0.08119688, 0.0662303 , 0.06714096, 0.03450933, 0.05479326,\n",
       "         0.02279038, 0.07238026, 0.02829862, 0.08859921, 0.0287519 ]),\n",
       "  'mean_test_score': array([-2251.0601685 , -2143.00529793, -2332.10896043, -2058.603404  ,\n",
       "         -2174.4671976 , -2166.24325826, -2307.57294925, -1839.21573385,\n",
       "         -2212.87677272, -2330.99811634]),\n",
       "  'param_estimator__colsample_bytree': masked_array(data=[0.8, 0.8, 0.7, 0.7, 0.7, 0.7, 0.8, 0.8, 0.7, 0.7],\n",
       "               mask=[False, False, False, False, False, False, False, False,\n",
       "                     False, False],\n",
       "         fill_value='?',\n",
       "              dtype=object),\n",
       "  'param_estimator__gamma': masked_array(data=[0.0, 0.3, 0.3, 0.0, 0.0, 0.1, 0.2, 0.3, 0.1, 0.3],\n",
       "               mask=[False, False, False, False, False, False, False, False,\n",
       "                     False, False],\n",
       "         fill_value='?',\n",
       "              dtype=object),\n",
       "  'param_estimator__learning_rate': masked_array(data=[0.5, 0.3, 0.1, 0.3, 0.3, 0.2, 0.5, 0.5, 0.4, 0.1],\n",
       "               mask=[False, False, False, False, False, False, False, False,\n",
       "                     False, False],\n",
       "         fill_value='?',\n",
       "              dtype=object),\n",
       "  'param_estimator__max_depth': masked_array(data=[7, 5, 7, 3, 7, 1, 7, 3, 6, 4],\n",
       "               mask=[False, False, False, False, False, False, False, False,\n",
       "                     False, False],\n",
       "         fill_value='?',\n",
       "              dtype=object),\n",
       "  'param_estimator__min_child_weight': masked_array(data=[4, 5, 5, 1, 3, 4, 5, 3, 3, 1],\n",
       "               mask=[False, False, False, False, False, False, False, False,\n",
       "                     False, False],\n",
       "         fill_value='?',\n",
       "              dtype=object),\n",
       "  'param_estimator__n_estimators': masked_array(data=[120, 140, 100, 100, 80, 140, 100, 80, 140, 80],\n",
       "               mask=[False, False, False, False, False, False, False, False,\n",
       "                     False, False],\n",
       "         fill_value='?',\n",
       "              dtype=object),\n",
       "  'param_estimator__nthread': masked_array(data=[4, 4, 4, 4, 4, 4, 4, 4, 4, 4],\n",
       "               mask=[False, False, False, False, False, False, False, False,\n",
       "                     False, False],\n",
       "         fill_value='?',\n",
       "              dtype=object),\n",
       "  'param_estimator__objective': masked_array(data=['reg:squarederror', 'reg:linear', 'reg:squarederror',\n",
       "                     'reg:squarederror', 'reg:linear', 'reg:linear',\n",
       "                     'reg:linear', 'reg:squarederror', 'reg:linear',\n",
       "                     'reg:linear'],\n",
       "               mask=[False, False, False, False, False, False, False, False,\n",
       "                     False, False],\n",
       "         fill_value='?',\n",
       "              dtype=object),\n",
       "  'param_estimator__scale_pos_weight': masked_array(data=[1, 1, 1, 1, 1, 1, 1, 1, 1, 1],\n",
       "               mask=[False, False, False, False, False, False, False, False,\n",
       "                     False, False],\n",
       "         fill_value='?',\n",
       "              dtype=object),\n",
       "  'param_estimator__seed': masked_array(data=[27, 27, 27, 27, 27, 27, 27, 27, 27, 27],\n",
       "               mask=[False, False, False, False, False, False, False, False,\n",
       "                     False, False],\n",
       "         fill_value='?',\n",
       "              dtype=object),\n",
       "  'param_estimator__subsample': masked_array(data=[0.7, 0.8, 0.9, 0.8, 0.8, 0.9, 0.9, 0.8, 0.9, 0.8],\n",
       "               mask=[False, False, False, False, False, False, False, False,\n",
       "                     False, False],\n",
       "         fill_value='?',\n",
       "              dtype=object),\n",
       "  'params': [{'estimator__colsample_bytree': 0.8,\n",
       "    'estimator__gamma': 0.0,\n",
       "    'estimator__learning_rate': 0.5,\n",
       "    'estimator__max_depth': 7,\n",
       "    'estimator__min_child_weight': 4,\n",
       "    'estimator__n_estimators': 120,\n",
       "    'estimator__nthread': 4,\n",
       "    'estimator__objective': 'reg:squarederror',\n",
       "    'estimator__scale_pos_weight': 1,\n",
       "    'estimator__seed': 27,\n",
       "    'estimator__subsample': 0.7},\n",
       "   {'estimator__colsample_bytree': 0.8,\n",
       "    'estimator__gamma': 0.3,\n",
       "    'estimator__learning_rate': 0.3,\n",
       "    'estimator__max_depth': 5,\n",
       "    'estimator__min_child_weight': 5,\n",
       "    'estimator__n_estimators': 140,\n",
       "    'estimator__nthread': 4,\n",
       "    'estimator__objective': 'reg:linear',\n",
       "    'estimator__scale_pos_weight': 1,\n",
       "    'estimator__seed': 27,\n",
       "    'estimator__subsample': 0.8},\n",
       "   {'estimator__colsample_bytree': 0.7,\n",
       "    'estimator__gamma': 0.3,\n",
       "    'estimator__learning_rate': 0.1,\n",
       "    'estimator__max_depth': 7,\n",
       "    'estimator__min_child_weight': 5,\n",
       "    'estimator__n_estimators': 100,\n",
       "    'estimator__nthread': 4,\n",
       "    'estimator__objective': 'reg:squarederror',\n",
       "    'estimator__scale_pos_weight': 1,\n",
       "    'estimator__seed': 27,\n",
       "    'estimator__subsample': 0.9},\n",
       "   {'estimator__colsample_bytree': 0.7,\n",
       "    'estimator__gamma': 0.0,\n",
       "    'estimator__learning_rate': 0.3,\n",
       "    'estimator__max_depth': 3,\n",
       "    'estimator__min_child_weight': 1,\n",
       "    'estimator__n_estimators': 100,\n",
       "    'estimator__nthread': 4,\n",
       "    'estimator__objective': 'reg:squarederror',\n",
       "    'estimator__scale_pos_weight': 1,\n",
       "    'estimator__seed': 27,\n",
       "    'estimator__subsample': 0.8},\n",
       "   {'estimator__colsample_bytree': 0.7,\n",
       "    'estimator__gamma': 0.0,\n",
       "    'estimator__learning_rate': 0.3,\n",
       "    'estimator__max_depth': 7,\n",
       "    'estimator__min_child_weight': 3,\n",
       "    'estimator__n_estimators': 80,\n",
       "    'estimator__nthread': 4,\n",
       "    'estimator__objective': 'reg:linear',\n",
       "    'estimator__scale_pos_weight': 1,\n",
       "    'estimator__seed': 27,\n",
       "    'estimator__subsample': 0.8},\n",
       "   {'estimator__colsample_bytree': 0.7,\n",
       "    'estimator__gamma': 0.1,\n",
       "    'estimator__learning_rate': 0.2,\n",
       "    'estimator__max_depth': 1,\n",
       "    'estimator__min_child_weight': 4,\n",
       "    'estimator__n_estimators': 140,\n",
       "    'estimator__nthread': 4,\n",
       "    'estimator__objective': 'reg:linear',\n",
       "    'estimator__scale_pos_weight': 1,\n",
       "    'estimator__seed': 27,\n",
       "    'estimator__subsample': 0.9},\n",
       "   {'estimator__colsample_bytree': 0.8,\n",
       "    'estimator__gamma': 0.2,\n",
       "    'estimator__learning_rate': 0.5,\n",
       "    'estimator__max_depth': 7,\n",
       "    'estimator__min_child_weight': 5,\n",
       "    'estimator__n_estimators': 100,\n",
       "    'estimator__nthread': 4,\n",
       "    'estimator__objective': 'reg:linear',\n",
       "    'estimator__scale_pos_weight': 1,\n",
       "    'estimator__seed': 27,\n",
       "    'estimator__subsample': 0.9},\n",
       "   {'estimator__colsample_bytree': 0.8,\n",
       "    'estimator__gamma': 0.3,\n",
       "    'estimator__learning_rate': 0.5,\n",
       "    'estimator__max_depth': 3,\n",
       "    'estimator__min_child_weight': 3,\n",
       "    'estimator__n_estimators': 80,\n",
       "    'estimator__nthread': 4,\n",
       "    'estimator__objective': 'reg:squarederror',\n",
       "    'estimator__scale_pos_weight': 1,\n",
       "    'estimator__seed': 27,\n",
       "    'estimator__subsample': 0.8},\n",
       "   {'estimator__colsample_bytree': 0.7,\n",
       "    'estimator__gamma': 0.1,\n",
       "    'estimator__learning_rate': 0.4,\n",
       "    'estimator__max_depth': 6,\n",
       "    'estimator__min_child_weight': 3,\n",
       "    'estimator__n_estimators': 140,\n",
       "    'estimator__nthread': 4,\n",
       "    'estimator__objective': 'reg:linear',\n",
       "    'estimator__scale_pos_weight': 1,\n",
       "    'estimator__seed': 27,\n",
       "    'estimator__subsample': 0.9},\n",
       "   {'estimator__colsample_bytree': 0.7,\n",
       "    'estimator__gamma': 0.3,\n",
       "    'estimator__learning_rate': 0.1,\n",
       "    'estimator__max_depth': 4,\n",
       "    'estimator__min_child_weight': 1,\n",
       "    'estimator__n_estimators': 80,\n",
       "    'estimator__nthread': 4,\n",
       "    'estimator__objective': 'reg:linear',\n",
       "    'estimator__scale_pos_weight': 1,\n",
       "    'estimator__seed': 27,\n",
       "    'estimator__subsample': 0.8}],\n",
       "  'rank_test_score': array([ 7,  3, 10,  2,  5,  4,  8,  1,  6,  9], dtype=int32),\n",
       "  'split0_test_score': array([-10272.34087258,  -9812.1463982 , -10898.2812409 ,  -9560.84952011,\n",
       "         -10058.61752878, -10069.47026454, -10536.10696646,  -8449.33634869,\n",
       "         -10120.79257214, -11012.89736313]),\n",
       "  'split1_test_score': array([-231.52319615, -151.26673799, -147.90099279, -159.55362044,\n",
       "         -144.39676479, -213.41164417, -174.51513634, -149.53727664,\n",
       "         -190.368793  , -148.98040769]),\n",
       "  'split2_test_score': array([-384.79147144, -385.11238719, -331.09761246, -293.4403289 ,\n",
       "         -350.64499965, -260.21437507, -452.17881571, -324.16232165,\n",
       "         -385.31230151, -240.18258793]),\n",
       "  'split3_test_score': array([-27.94680161, -21.47285473, -17.70219899, -22.83564952,\n",
       "         -21.00742604, -44.8372846 , -26.88567156, -24.57921569,\n",
       "         -27.23720922, -20.39700464]),\n",
       "  'split4_test_score': array([-338.69850074, -345.02811151, -265.56275699, -256.33790102,\n",
       "         -297.66926872, -243.28272294, -348.17815619, -248.4635066 ,\n",
       "         -340.67298771, -232.53321831]),\n",
       "  'std_fit_time': array([0.1775932 , 0.10119799, 0.13015744, 0.07191056, 0.08690168,\n",
       "         0.03777521, 0.09957935, 0.04481068, 0.17389382, 0.53839656]),\n",
       "  'std_score_time': array([0.01290764, 0.00619697, 0.00493502, 0.00475764, 0.0050138 ,\n",
       "         0.00198151, 0.00942687, 0.00433736, 0.00832523, 0.00559811]),\n",
       "  'std_test_score': array([4012.5252088 , 3836.83612012, 4284.41851988, 3752.28993662,\n",
       "         3943.78242985, 3952.35714618, 4116.8424189 , 3306.58412912,\n",
       "         3955.95323605, 4341.67059579])},\n",
       " {'estimator__colsample_bytree': 0.8,\n",
       "  'estimator__gamma': 0.3,\n",
       "  'estimator__learning_rate': 0.5,\n",
       "  'estimator__max_depth': 3,\n",
       "  'estimator__min_child_weight': 3,\n",
       "  'estimator__n_estimators': 80,\n",
       "  'estimator__nthread': 4,\n",
       "  'estimator__objective': 'reg:squarederror',\n",
       "  'estimator__scale_pos_weight': 1,\n",
       "  'estimator__seed': 27,\n",
       "  'estimator__subsample': 0.8},\n",
       " -1839.215733854975)"
      ]
     },
     "execution_count": 97,
     "metadata": {
      "tags": []
     },
     "output_type": "execute_result"
    }
   ],
   "source": [
    "xg_reg = (XGBRegressor())\n",
    "gsearch1=RandomizedSearchCV(estimator=MultiOutputRegressor(xg_reg),scoring='neg_mean_squared_error',param_distributions=param_test1,n_jobs=-1,iid=False, cv=5,random_state=123456)\n",
    "gsearch1.fit(X_train,y_train)\n",
    "gsearch1.cv_results_,gsearch1.best_params_,gsearch1.best_score_"
   ]
  },
  {
   "cell_type": "code",
   "execution_count": null,
   "metadata": {
    "colab": {},
    "colab_type": "code",
    "id": "_LvbX2F_wxlB"
   },
   "outputs": [],
   "source": [
    "best_params={'estimator__colsample_bytree': 0.8,\n",
    "  'estimator__gamma': 0.0,\n",
    "  'estimator__learning_rate': 0.1,\n",
    "  'estimator__max_depth': 9,\n",
    "  'estimator__min_child_weight': 1,\n",
    "  'estimator__n_estimators': 140,\n",
    "  'estimator__nthread': 4,\n",
    "  'estimator__objective': 'reg:linear',\n",
    "  'estimator__scale_pos_weight': 1,\n",
    "  'estimator__seed': 27,\n",
    "  'estimator__subsample': 0.8}"
   ]
  },
  {
   "cell_type": "code",
   "execution_count": null,
   "metadata": {
    "colab": {},
    "colab_type": "code",
    "id": "qY8xLGOiw5DM"
   },
   "outputs": [],
   "source": [
    "xgb=MultiOutputRegressor(XGBRegressor(colsample_bytree= 0.8,\n",
    "gamma= 0.1,\n",
    "  learning_rate= 0.1,\n",
    "  max_depth= 8,\n",
    "  min_child_weight= 2,\n",
    "  n_estimators= 100,\n",
    "  nthread= 4,\n",
    "  objective= 'reg:squarederror',\n",
    "  scale_pos_weight= 1,\n",
    "  seed= 27,\n",
    "  subsample= 0.8, random_state=42)).fit(X_train,y_train)"
   ]
  },
  {
   "cell_type": "code",
   "execution_count": null,
   "metadata": {
    "colab": {
     "base_uri": "https://localhost:8080/",
     "height": 102
    },
    "colab_type": "code",
    "id": "u_sJngO9gFRp",
    "outputId": "19ee51c8-f00c-41c2-f373-5b23c22a6e17"
   },
   "outputs": [
    {
     "name": "stdout",
     "output_type": "stream",
     "text": [
      "MAE: 17.144052\n",
      "\n",
      "\n",
      "\n",
      "\n"
     ]
    }
   ],
   "source": [
    "predict=xgb.predict(X_test)\n",
    "rmse = np.sqrt(mean_squared_error(y_test, predict))\n",
    "print(\"MAE: %f\" % (rmse))\n",
    "print('\\n')\n",
    "#print(\"Classification Report\", classification_report(y_test,predict))\n",
    "print('\\n')\n",
    "#print(\"Confusion Matrics\", confusion_matrix(y_test,predict))\n"
   ]
  },
  {
   "cell_type": "code",
   "execution_count": null,
   "metadata": {
    "colab": {},
    "colab_type": "code",
    "id": "-7iS3POFSYce"
   },
   "outputs": [],
   "source": [
    "#17.144052\n",
    "final_predict=xgb.predict(test2)\n",
    "result=pd.DataFrame({'DTC': [x[0] for x in final_predict],'DTS':[x[1] for x in final_predict]})"
   ]
  },
  {
   "cell_type": "code",
   "execution_count": null,
   "metadata": {
    "colab": {
     "base_uri": "https://localhost:8080/",
     "height": 419
    },
    "colab_type": "code",
    "id": "x_tlgVp1uIbp",
    "outputId": "fc5278a4-61e7-4964-c6ed-51b4c0840ef8"
   },
   "outputs": [
    {
     "data": {
      "text/html": [
       "<div>\n",
       "<style scoped>\n",
       "    .dataframe tbody tr th:only-of-type {\n",
       "        vertical-align: middle;\n",
       "    }\n",
       "\n",
       "    .dataframe tbody tr th {\n",
       "        vertical-align: top;\n",
       "    }\n",
       "\n",
       "    .dataframe thead th {\n",
       "        text-align: right;\n",
       "    }\n",
       "</style>\n",
       "<table border=\"1\" class=\"dataframe\">\n",
       "  <thead>\n",
       "    <tr style=\"text-align: right;\">\n",
       "      <th></th>\n",
       "      <th>DTC</th>\n",
       "      <th>DTS</th>\n",
       "    </tr>\n",
       "  </thead>\n",
       "  <tbody>\n",
       "    <tr>\n",
       "      <th>0</th>\n",
       "      <td>112.448494</td>\n",
       "      <td>259.722626</td>\n",
       "    </tr>\n",
       "    <tr>\n",
       "      <th>1</th>\n",
       "      <td>112.448494</td>\n",
       "      <td>259.722626</td>\n",
       "    </tr>\n",
       "    <tr>\n",
       "      <th>2</th>\n",
       "      <td>112.802727</td>\n",
       "      <td>258.453583</td>\n",
       "    </tr>\n",
       "    <tr>\n",
       "      <th>3</th>\n",
       "      <td>112.448494</td>\n",
       "      <td>258.453583</td>\n",
       "    </tr>\n",
       "    <tr>\n",
       "      <th>4</th>\n",
       "      <td>112.448494</td>\n",
       "      <td>256.451019</td>\n",
       "    </tr>\n",
       "    <tr>\n",
       "      <th>...</th>\n",
       "      <td>...</td>\n",
       "      <td>...</td>\n",
       "    </tr>\n",
       "    <tr>\n",
       "      <th>11083</th>\n",
       "      <td>113.030556</td>\n",
       "      <td>257.434204</td>\n",
       "    </tr>\n",
       "    <tr>\n",
       "      <th>11084</th>\n",
       "      <td>113.030556</td>\n",
       "      <td>257.434204</td>\n",
       "    </tr>\n",
       "    <tr>\n",
       "      <th>11085</th>\n",
       "      <td>113.815422</td>\n",
       "      <td>257.434204</td>\n",
       "    </tr>\n",
       "    <tr>\n",
       "      <th>11086</th>\n",
       "      <td>113.815422</td>\n",
       "      <td>257.434204</td>\n",
       "    </tr>\n",
       "    <tr>\n",
       "      <th>11087</th>\n",
       "      <td>113.815422</td>\n",
       "      <td>257.434204</td>\n",
       "    </tr>\n",
       "  </tbody>\n",
       "</table>\n",
       "<p>11088 rows × 2 columns</p>\n",
       "</div>"
      ],
      "text/plain": [
       "              DTC         DTS\n",
       "0      112.448494  259.722626\n",
       "1      112.448494  259.722626\n",
       "2      112.802727  258.453583\n",
       "3      112.448494  258.453583\n",
       "4      112.448494  256.451019\n",
       "...           ...         ...\n",
       "11083  113.030556  257.434204\n",
       "11084  113.030556  257.434204\n",
       "11085  113.815422  257.434204\n",
       "11086  113.815422  257.434204\n",
       "11087  113.815422  257.434204\n",
       "\n",
       "[11088 rows x 2 columns]"
      ]
     },
     "execution_count": 40,
     "metadata": {
      "tags": []
     },
     "output_type": "execute_result"
    }
   ],
   "source": [
    "result"
   ]
  },
  {
   "cell_type": "code",
   "execution_count": null,
   "metadata": {
    "colab": {
     "base_uri": "https://localhost:8080/",
     "height": 122
    },
    "colab_type": "code",
    "id": "tCTMuH1vYgdI",
    "outputId": "97d7e474-625b-43f2-ae5d-5e8db1cf0c34"
   },
   "outputs": [
    {
     "name": "stdout",
     "output_type": "stream",
     "text": [
      "Go to this URL in a browser: https://accounts.google.com/o/oauth2/auth?client_id=947318989803-6bn6qk8qdgf4n4g3pfee6491hc0brc4i.apps.googleusercontent.com&redirect_uri=urn%3aietf%3awg%3aoauth%3a2.0%3aoob&response_type=code&scope=email%20https%3a%2f%2fwww.googleapis.com%2fauth%2fdocs.test%20https%3a%2f%2fwww.googleapis.com%2fauth%2fdrive%20https%3a%2f%2fwww.googleapis.com%2fauth%2fdrive.photos.readonly%20https%3a%2f%2fwww.googleapis.com%2fauth%2fpeopleapi.readonly\n",
      "\n",
      "Enter your authorization code:\n",
      "··········\n",
      "Mounted at drive\n"
     ]
    }
   ],
   "source": [
    "from google.colab import drive\n",
    "drive.mount('drive')"
   ]
  },
  {
   "cell_type": "code",
   "execution_count": null,
   "metadata": {
    "colab": {},
    "colab_type": "code",
    "id": "OOZzI4TiYmUL"
   },
   "outputs": [],
   "source": []
  },
  {
   "cell_type": "code",
   "execution_count": null,
   "metadata": {
    "colab": {},
    "colab_type": "code",
    "id": "ApQAh27OXKq6"
   },
   "outputs": [],
   "source": [
    "result.to_csv('result.csv')\n",
    "!cp result.csv \"drive/My Drive/\""
   ]
  },
  {
   "cell_type": "code",
   "execution_count": null,
   "metadata": {
    "colab": {
     "base_uri": "https://localhost:8080/",
     "height": 34
    },
    "colab_type": "code",
    "id": "dfTta3B92pqa",
    "outputId": "b9434f47-5f04-42ea-ddb1-e9c76cd6cefb"
   },
   "outputs": [
    {
     "data": {
      "text/plain": [
       "(11088, 2)"
      ]
     },
     "execution_count": 42,
     "metadata": {
      "tags": []
     },
     "output_type": "execute_result"
    }
   ],
   "source": [
    "result.shape"
   ]
  },
  {
   "cell_type": "code",
   "execution_count": null,
   "metadata": {
    "colab": {},
    "colab_type": "code",
    "id": "836DDe7Y0acS"
   },
   "outputs": [],
   "source": []
  }
 ],
 "metadata": {
  "colab": {
   "collapsed_sections": [],
   "name": "first_draft PDDA Project.ipynb",
   "provenance": []
  },
  "kernelspec": {
   "display_name": "Python 3",
   "language": "python",
   "name": "python3"
  },
  "language_info": {
   "codemirror_mode": {
    "name": "ipython",
    "version": 3
   },
   "file_extension": ".py",
   "mimetype": "text/x-python",
   "name": "python",
   "nbconvert_exporter": "python",
   "pygments_lexer": "ipython3",
   "version": "3.7.3"
  }
 },
 "nbformat": 4,
 "nbformat_minor": 4
}
