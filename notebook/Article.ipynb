{
 "cells": [
  {
   "cell_type": "code",
   "execution_count": 1,
   "metadata": {},
   "outputs": [],
   "source": [
    "# import warnings filter \n",
    "from warnings import simplefilter\n",
    "# ignore all future warnings\n",
    "simplefilter(action='ignore', category=FutureWarning)\n",
    "\n",
    "import numpy as np\n",
    "import pandas as pd\n",
    "import matplotlib.pyplot as plt\n",
    "\n",
    "from xgboost import XGBRegressor\n",
    "from sklearn.multioutput import MultiOutputRegressor\n",
    "\n",
    "from sklearn.preprocessing import StandardScaler\n",
    "from sklearn.model_selection import train_test_split\n",
    "from sklearn.model_selection import RandomizedSearchCV\n",
    "from sklearn.metrics import mean_squared_error"
   ]
  },
  {
   "cell_type": "code",
   "execution_count": 2,
   "metadata": {},
   "outputs": [],
   "source": [
    "#Reading datasets\n",
    "na_values=['',' ','Nan','NaN',-999.0,-999]\n",
    "train= pd.read_csv('../data/train.csv',na_values=na_values)\n",
    "test= pd.read_csv('../data/test.csv',na_values=na_values)"
   ]
  },
  {
   "cell_type": "markdown",
   "metadata": {},
   "source": [
    "na_valuesscalar, str, list-like, or dict, optional\n",
    "Additional strings to recognize as NA/NaN. If dict passed, specific per-column NA values. By default the following values are interpreted as NaN: ‘’, ‘#N/A’, ‘#N/A N/A’, ‘#NA’, ‘-1.#IND’, ‘-1.#QNAN’, ‘-NaN’, ‘-nan’, ‘1.#IND’, ‘1.#QNAN’, ‘<NA>’, ‘N/A’, ‘NA’, ‘NULL’, ‘NaN’, ‘n/a’, ‘nan’, ‘null’."
   ]
  },
  {
   "cell_type": "code",
   "execution_count": 3,
   "metadata": {},
   "outputs": [
    {
     "data": {
      "text/html": [
       "<div>\n",
       "<style scoped>\n",
       "    .dataframe tbody tr th:only-of-type {\n",
       "        vertical-align: middle;\n",
       "    }\n",
       "\n",
       "    .dataframe tbody tr th {\n",
       "        vertical-align: top;\n",
       "    }\n",
       "\n",
       "    .dataframe thead th {\n",
       "        text-align: right;\n",
       "    }\n",
       "</style>\n",
       "<table border=\"1\" class=\"dataframe\">\n",
       "  <thead>\n",
       "    <tr style=\"text-align: right;\">\n",
       "      <th></th>\n",
       "      <th>CAL</th>\n",
       "      <th>CNC</th>\n",
       "      <th>GR</th>\n",
       "      <th>HRD</th>\n",
       "      <th>HRM</th>\n",
       "      <th>PE</th>\n",
       "      <th>ZDEN</th>\n",
       "      <th>DTC</th>\n",
       "      <th>DTS</th>\n",
       "    </tr>\n",
       "  </thead>\n",
       "  <tbody>\n",
       "    <tr>\n",
       "      <th>0</th>\n",
       "      <td>NaN</td>\n",
       "      <td>NaN</td>\n",
       "      <td>41.4699</td>\n",
       "      <td>NaN</td>\n",
       "      <td>NaN</td>\n",
       "      <td>NaN</td>\n",
       "      <td>NaN</td>\n",
       "      <td>128.0737</td>\n",
       "      <td>319.0654</td>\n",
       "    </tr>\n",
       "    <tr>\n",
       "      <th>1</th>\n",
       "      <td>NaN</td>\n",
       "      <td>NaN</td>\n",
       "      <td>42.5053</td>\n",
       "      <td>NaN</td>\n",
       "      <td>NaN</td>\n",
       "      <td>NaN</td>\n",
       "      <td>NaN</td>\n",
       "      <td>127.8347</td>\n",
       "      <td>318.7825</td>\n",
       "    </tr>\n",
       "    <tr>\n",
       "      <th>2</th>\n",
       "      <td>NaN</td>\n",
       "      <td>NaN</td>\n",
       "      <td>43.1548</td>\n",
       "      <td>NaN</td>\n",
       "      <td>NaN</td>\n",
       "      <td>NaN</td>\n",
       "      <td>NaN</td>\n",
       "      <td>127.2307</td>\n",
       "      <td>317.3323</td>\n",
       "    </tr>\n",
       "    <tr>\n",
       "      <th>3</th>\n",
       "      <td>NaN</td>\n",
       "      <td>NaN</td>\n",
       "      <td>43.2410</td>\n",
       "      <td>NaN</td>\n",
       "      <td>NaN</td>\n",
       "      <td>NaN</td>\n",
       "      <td>NaN</td>\n",
       "      <td>126.2917</td>\n",
       "      <td>313.6486</td>\n",
       "    </tr>\n",
       "    <tr>\n",
       "      <th>4</th>\n",
       "      <td>NaN</td>\n",
       "      <td>NaN</td>\n",
       "      <td>40.3218</td>\n",
       "      <td>NaN</td>\n",
       "      <td>NaN</td>\n",
       "      <td>NaN</td>\n",
       "      <td>NaN</td>\n",
       "      <td>125.3985</td>\n",
       "      <td>307.8903</td>\n",
       "    </tr>\n",
       "  </tbody>\n",
       "</table>\n",
       "</div>"
      ],
      "text/plain": [
       "   CAL  CNC       GR  HRD  HRM  PE  ZDEN       DTC       DTS\n",
       "0  NaN  NaN  41.4699  NaN  NaN NaN   NaN  128.0737  319.0654\n",
       "1  NaN  NaN  42.5053  NaN  NaN NaN   NaN  127.8347  318.7825\n",
       "2  NaN  NaN  43.1548  NaN  NaN NaN   NaN  127.2307  317.3323\n",
       "3  NaN  NaN  43.2410  NaN  NaN NaN   NaN  126.2917  313.6486\n",
       "4  NaN  NaN  40.3218  NaN  NaN NaN   NaN  125.3985  307.8903"
      ]
     },
     "execution_count": 3,
     "metadata": {},
     "output_type": "execute_result"
    }
   ],
   "source": [
    "train.head()"
   ]
  },
  {
   "cell_type": "code",
   "execution_count": 4,
   "metadata": {},
   "outputs": [
    {
     "data": {
      "text/html": [
       "<div>\n",
       "<style scoped>\n",
       "    .dataframe tbody tr th:only-of-type {\n",
       "        vertical-align: middle;\n",
       "    }\n",
       "\n",
       "    .dataframe tbody tr th {\n",
       "        vertical-align: top;\n",
       "    }\n",
       "\n",
       "    .dataframe thead th {\n",
       "        text-align: right;\n",
       "    }\n",
       "</style>\n",
       "<table border=\"1\" class=\"dataframe\">\n",
       "  <thead>\n",
       "    <tr style=\"text-align: right;\">\n",
       "      <th></th>\n",
       "      <th>CAL</th>\n",
       "      <th>CNC</th>\n",
       "      <th>GR</th>\n",
       "      <th>HRD</th>\n",
       "      <th>HRM</th>\n",
       "      <th>PE</th>\n",
       "      <th>ZDEN</th>\n",
       "    </tr>\n",
       "  </thead>\n",
       "  <tbody>\n",
       "    <tr>\n",
       "      <th>0</th>\n",
       "      <td>8.5781</td>\n",
       "      <td>0.3521</td>\n",
       "      <td>55.1824</td>\n",
       "      <td>0.8121</td>\n",
       "      <td>0.7810</td>\n",
       "      <td>6.8291</td>\n",
       "      <td>2.3256</td>\n",
       "    </tr>\n",
       "    <tr>\n",
       "      <th>1</th>\n",
       "      <td>8.5781</td>\n",
       "      <td>0.3639</td>\n",
       "      <td>57.0114</td>\n",
       "      <td>0.8038</td>\n",
       "      <td>0.7723</td>\n",
       "      <td>6.8100</td>\n",
       "      <td>2.3255</td>\n",
       "    </tr>\n",
       "    <tr>\n",
       "      <th>2</th>\n",
       "      <td>8.5781</td>\n",
       "      <td>0.3703</td>\n",
       "      <td>58.9263</td>\n",
       "      <td>0.7444</td>\n",
       "      <td>0.7048</td>\n",
       "      <td>6.7766</td>\n",
       "      <td>2.3212</td>\n",
       "    </tr>\n",
       "    <tr>\n",
       "      <th>3</th>\n",
       "      <td>8.5625</td>\n",
       "      <td>0.3667</td>\n",
       "      <td>57.3308</td>\n",
       "      <td>0.7169</td>\n",
       "      <td>0.6542</td>\n",
       "      <td>6.7219</td>\n",
       "      <td>2.3119</td>\n",
       "    </tr>\n",
       "    <tr>\n",
       "      <th>4</th>\n",
       "      <td>8.5781</td>\n",
       "      <td>0.3500</td>\n",
       "      <td>53.0624</td>\n",
       "      <td>0.6845</td>\n",
       "      <td>0.6109</td>\n",
       "      <td>6.6384</td>\n",
       "      <td>2.2982</td>\n",
       "    </tr>\n",
       "  </tbody>\n",
       "</table>\n",
       "</div>"
      ],
      "text/plain": [
       "      CAL     CNC       GR     HRD     HRM      PE    ZDEN\n",
       "0  8.5781  0.3521  55.1824  0.8121  0.7810  6.8291  2.3256\n",
       "1  8.5781  0.3639  57.0114  0.8038  0.7723  6.8100  2.3255\n",
       "2  8.5781  0.3703  58.9263  0.7444  0.7048  6.7766  2.3212\n",
       "3  8.5625  0.3667  57.3308  0.7169  0.6542  6.7219  2.3119\n",
       "4  8.5781  0.3500  53.0624  0.6845  0.6109  6.6384  2.2982"
      ]
     },
     "execution_count": 4,
     "metadata": {},
     "output_type": "execute_result"
    }
   ],
   "source": [
    "test.head()"
   ]
  },
  {
   "cell_type": "code",
   "execution_count": 5,
   "metadata": {},
   "outputs": [
    {
     "data": {
      "text/html": [
       "<div>\n",
       "<style scoped>\n",
       "    .dataframe tbody tr th:only-of-type {\n",
       "        vertical-align: middle;\n",
       "    }\n",
       "\n",
       "    .dataframe tbody tr th {\n",
       "        vertical-align: top;\n",
       "    }\n",
       "\n",
       "    .dataframe thead th {\n",
       "        text-align: right;\n",
       "    }\n",
       "</style>\n",
       "<table border=\"1\" class=\"dataframe\">\n",
       "  <thead>\n",
       "    <tr style=\"text-align: right;\">\n",
       "      <th></th>\n",
       "      <th>CAL</th>\n",
       "      <th>CNC</th>\n",
       "      <th>GR</th>\n",
       "      <th>HRD</th>\n",
       "      <th>HRM</th>\n",
       "      <th>PE</th>\n",
       "      <th>ZDEN</th>\n",
       "      <th>DTC</th>\n",
       "      <th>DTS</th>\n",
       "    </tr>\n",
       "  </thead>\n",
       "  <tbody>\n",
       "    <tr>\n",
       "      <th>count</th>\n",
       "      <td>29633.000000</td>\n",
       "      <td>29408.000000</td>\n",
       "      <td>29889.000000</td>\n",
       "      <td>29758.000000</td>\n",
       "      <td>29758.000000</td>\n",
       "      <td>29464.000000</td>\n",
       "      <td>29462.000000</td>\n",
       "      <td>26089.000000</td>\n",
       "      <td>25278.000000</td>\n",
       "    </tr>\n",
       "    <tr>\n",
       "      <th>mean</th>\n",
       "      <td>8.654281</td>\n",
       "      <td>0.683437</td>\n",
       "      <td>47.780541</td>\n",
       "      <td>16.953912</td>\n",
       "      <td>14.492077</td>\n",
       "      <td>5.173227</td>\n",
       "      <td>2.393818</td>\n",
       "      <td>91.814381</td>\n",
       "      <td>180.655730</td>\n",
       "    </tr>\n",
       "    <tr>\n",
       "      <th>std</th>\n",
       "      <td>1.749145</td>\n",
       "      <td>30.689679</td>\n",
       "      <td>51.377519</td>\n",
       "      <td>349.067878</td>\n",
       "      <td>445.361622</td>\n",
       "      <td>4.781088</td>\n",
       "      <td>0.196276</td>\n",
       "      <td>24.337910</td>\n",
       "      <td>81.141960</td>\n",
       "    </tr>\n",
       "    <tr>\n",
       "      <th>min</th>\n",
       "      <td>5.930400</td>\n",
       "      <td>-0.102800</td>\n",
       "      <td>-0.146000</td>\n",
       "      <td>0.054100</td>\n",
       "      <td>0.061600</td>\n",
       "      <td>-0.023200</td>\n",
       "      <td>-1.923800</td>\n",
       "      <td>49.970500</td>\n",
       "      <td>80.580400</td>\n",
       "    </tr>\n",
       "    <tr>\n",
       "      <th>25%</th>\n",
       "      <td>8.135600</td>\n",
       "      <td>0.127100</td>\n",
       "      <td>18.026100</td>\n",
       "      <td>0.740450</td>\n",
       "      <td>0.734700</td>\n",
       "      <td>0.054200</td>\n",
       "      <td>2.234800</td>\n",
       "      <td>71.357000</td>\n",
       "      <td>129.446625</td>\n",
       "    </tr>\n",
       "    <tr>\n",
       "      <th>50%</th>\n",
       "      <td>8.625000</td>\n",
       "      <td>0.198500</td>\n",
       "      <td>37.082200</td>\n",
       "      <td>1.662750</td>\n",
       "      <td>1.665150</td>\n",
       "      <td>5.042500</td>\n",
       "      <td>2.439600</td>\n",
       "      <td>85.237600</td>\n",
       "      <td>144.593050</td>\n",
       "    </tr>\n",
       "    <tr>\n",
       "      <th>75%</th>\n",
       "      <td>9.063000</td>\n",
       "      <td>0.343100</td>\n",
       "      <td>58.532800</td>\n",
       "      <td>3.180350</td>\n",
       "      <td>3.308900</td>\n",
       "      <td>7.949700</td>\n",
       "      <td>2.553000</td>\n",
       "      <td>112.112600</td>\n",
       "      <td>191.475125</td>\n",
       "    </tr>\n",
       "    <tr>\n",
       "      <th>max</th>\n",
       "      <td>21.064200</td>\n",
       "      <td>3490.158200</td>\n",
       "      <td>1470.253400</td>\n",
       "      <td>10000.000000</td>\n",
       "      <td>60467.761700</td>\n",
       "      <td>28.106400</td>\n",
       "      <td>3.259700</td>\n",
       "      <td>155.980300</td>\n",
       "      <td>487.438400</td>\n",
       "    </tr>\n",
       "  </tbody>\n",
       "</table>\n",
       "</div>"
      ],
      "text/plain": [
       "                CAL           CNC            GR           HRD           HRM  \\\n",
       "count  29633.000000  29408.000000  29889.000000  29758.000000  29758.000000   \n",
       "mean       8.654281      0.683437     47.780541     16.953912     14.492077   \n",
       "std        1.749145     30.689679     51.377519    349.067878    445.361622   \n",
       "min        5.930400     -0.102800     -0.146000      0.054100      0.061600   \n",
       "25%        8.135600      0.127100     18.026100      0.740450      0.734700   \n",
       "50%        8.625000      0.198500     37.082200      1.662750      1.665150   \n",
       "75%        9.063000      0.343100     58.532800      3.180350      3.308900   \n",
       "max       21.064200   3490.158200   1470.253400  10000.000000  60467.761700   \n",
       "\n",
       "                 PE          ZDEN           DTC           DTS  \n",
       "count  29464.000000  29462.000000  26089.000000  25278.000000  \n",
       "mean       5.173227      2.393818     91.814381    180.655730  \n",
       "std        4.781088      0.196276     24.337910     81.141960  \n",
       "min       -0.023200     -1.923800     49.970500     80.580400  \n",
       "25%        0.054200      2.234800     71.357000    129.446625  \n",
       "50%        5.042500      2.439600     85.237600    144.593050  \n",
       "75%        7.949700      2.553000    112.112600    191.475125  \n",
       "max       28.106400      3.259700    155.980300    487.438400  "
      ]
     },
     "execution_count": 5,
     "metadata": {},
     "output_type": "execute_result"
    }
   ],
   "source": [
    "train.describe()"
   ]
  },
  {
   "cell_type": "code",
   "execution_count": 6,
   "metadata": {},
   "outputs": [
    {
     "data": {
      "text/html": [
       "<div>\n",
       "<style scoped>\n",
       "    .dataframe tbody tr th:only-of-type {\n",
       "        vertical-align: middle;\n",
       "    }\n",
       "\n",
       "    .dataframe tbody tr th {\n",
       "        vertical-align: top;\n",
       "    }\n",
       "\n",
       "    .dataframe thead th {\n",
       "        text-align: right;\n",
       "    }\n",
       "</style>\n",
       "<table border=\"1\" class=\"dataframe\">\n",
       "  <thead>\n",
       "    <tr style=\"text-align: right;\">\n",
       "      <th></th>\n",
       "      <th>CAL</th>\n",
       "      <th>CNC</th>\n",
       "      <th>GR</th>\n",
       "      <th>HRD</th>\n",
       "      <th>HRM</th>\n",
       "      <th>PE</th>\n",
       "      <th>ZDEN</th>\n",
       "      <th>DTC</th>\n",
       "      <th>DTS</th>\n",
       "    </tr>\n",
       "  </thead>\n",
       "  <tbody>\n",
       "    <tr>\n",
       "      <th>CAL</th>\n",
       "      <td>1.000000</td>\n",
       "      <td>0.008627</td>\n",
       "      <td>0.020375</td>\n",
       "      <td>-0.009225</td>\n",
       "      <td>-0.005003</td>\n",
       "      <td>0.163847</td>\n",
       "      <td>-0.358636</td>\n",
       "      <td>0.585637</td>\n",
       "      <td>0.681271</td>\n",
       "    </tr>\n",
       "    <tr>\n",
       "      <th>CNC</th>\n",
       "      <td>0.008627</td>\n",
       "      <td>1.000000</td>\n",
       "      <td>-0.003242</td>\n",
       "      <td>-0.000660</td>\n",
       "      <td>-0.000410</td>\n",
       "      <td>0.017042</td>\n",
       "      <td>-0.008152</td>\n",
       "      <td>0.008636</td>\n",
       "      <td>0.048946</td>\n",
       "    </tr>\n",
       "    <tr>\n",
       "      <th>GR</th>\n",
       "      <td>0.020375</td>\n",
       "      <td>-0.003242</td>\n",
       "      <td>1.000000</td>\n",
       "      <td>0.031601</td>\n",
       "      <td>0.037300</td>\n",
       "      <td>-0.035093</td>\n",
       "      <td>-0.152755</td>\n",
       "      <td>0.355556</td>\n",
       "      <td>0.233226</td>\n",
       "    </tr>\n",
       "    <tr>\n",
       "      <th>HRD</th>\n",
       "      <td>-0.009225</td>\n",
       "      <td>-0.000660</td>\n",
       "      <td>0.031601</td>\n",
       "      <td>1.000000</td>\n",
       "      <td>0.497020</td>\n",
       "      <td>0.010584</td>\n",
       "      <td>-0.012363</td>\n",
       "      <td>-0.426659</td>\n",
       "      <td>-0.009533</td>\n",
       "    </tr>\n",
       "    <tr>\n",
       "      <th>HRM</th>\n",
       "      <td>-0.005003</td>\n",
       "      <td>-0.000410</td>\n",
       "      <td>0.037300</td>\n",
       "      <td>0.497020</td>\n",
       "      <td>1.000000</td>\n",
       "      <td>-0.000947</td>\n",
       "      <td>-0.004957</td>\n",
       "      <td>-0.002028</td>\n",
       "      <td>-0.005334</td>\n",
       "    </tr>\n",
       "    <tr>\n",
       "      <th>PE</th>\n",
       "      <td>0.163847</td>\n",
       "      <td>0.017042</td>\n",
       "      <td>-0.035093</td>\n",
       "      <td>0.010584</td>\n",
       "      <td>-0.000947</td>\n",
       "      <td>1.000000</td>\n",
       "      <td>-0.335354</td>\n",
       "      <td>0.477204</td>\n",
       "      <td>0.440085</td>\n",
       "    </tr>\n",
       "    <tr>\n",
       "      <th>ZDEN</th>\n",
       "      <td>-0.358636</td>\n",
       "      <td>-0.008152</td>\n",
       "      <td>-0.152755</td>\n",
       "      <td>-0.012363</td>\n",
       "      <td>-0.004957</td>\n",
       "      <td>-0.335354</td>\n",
       "      <td>1.000000</td>\n",
       "      <td>-0.731694</td>\n",
       "      <td>-0.670186</td>\n",
       "    </tr>\n",
       "    <tr>\n",
       "      <th>DTC</th>\n",
       "      <td>0.585637</td>\n",
       "      <td>0.008636</td>\n",
       "      <td>0.355556</td>\n",
       "      <td>-0.426659</td>\n",
       "      <td>-0.002028</td>\n",
       "      <td>0.477204</td>\n",
       "      <td>-0.731694</td>\n",
       "      <td>1.000000</td>\n",
       "      <td>0.941639</td>\n",
       "    </tr>\n",
       "    <tr>\n",
       "      <th>DTS</th>\n",
       "      <td>0.681271</td>\n",
       "      <td>0.048946</td>\n",
       "      <td>0.233226</td>\n",
       "      <td>-0.009533</td>\n",
       "      <td>-0.005334</td>\n",
       "      <td>0.440085</td>\n",
       "      <td>-0.670186</td>\n",
       "      <td>0.941639</td>\n",
       "      <td>1.000000</td>\n",
       "    </tr>\n",
       "  </tbody>\n",
       "</table>\n",
       "</div>"
      ],
      "text/plain": [
       "           CAL       CNC        GR       HRD       HRM        PE      ZDEN  \\\n",
       "CAL   1.000000  0.008627  0.020375 -0.009225 -0.005003  0.163847 -0.358636   \n",
       "CNC   0.008627  1.000000 -0.003242 -0.000660 -0.000410  0.017042 -0.008152   \n",
       "GR    0.020375 -0.003242  1.000000  0.031601  0.037300 -0.035093 -0.152755   \n",
       "HRD  -0.009225 -0.000660  0.031601  1.000000  0.497020  0.010584 -0.012363   \n",
       "HRM  -0.005003 -0.000410  0.037300  0.497020  1.000000 -0.000947 -0.004957   \n",
       "PE    0.163847  0.017042 -0.035093  0.010584 -0.000947  1.000000 -0.335354   \n",
       "ZDEN -0.358636 -0.008152 -0.152755 -0.012363 -0.004957 -0.335354  1.000000   \n",
       "DTC   0.585637  0.008636  0.355556 -0.426659 -0.002028  0.477204 -0.731694   \n",
       "DTS   0.681271  0.048946  0.233226 -0.009533 -0.005334  0.440085 -0.670186   \n",
       "\n",
       "           DTC       DTS  \n",
       "CAL   0.585637  0.681271  \n",
       "CNC   0.008636  0.048946  \n",
       "GR    0.355556  0.233226  \n",
       "HRD  -0.426659 -0.009533  \n",
       "HRM  -0.002028 -0.005334  \n",
       "PE    0.477204  0.440085  \n",
       "ZDEN -0.731694 -0.670186  \n",
       "DTC   1.000000  0.941639  \n",
       "DTS   0.941639  1.000000  "
      ]
     },
     "execution_count": 6,
     "metadata": {},
     "output_type": "execute_result"
    }
   ],
   "source": [
    "train.corr()"
   ]
  },
  {
   "cell_type": "code",
   "execution_count": 7,
   "metadata": {},
   "outputs": [
    {
     "data": {
      "text/plain": [
       "((30143, 9), (11088, 7))"
      ]
     },
     "execution_count": 7,
     "metadata": {},
     "output_type": "execute_result"
    }
   ],
   "source": [
    "train.shape, test.shape"
   ]
  },
  {
   "cell_type": "code",
   "execution_count": 8,
   "metadata": {},
   "outputs": [
    {
     "data": {
      "text/plain": [
       "CAL      510\n",
       "CNC      735\n",
       "GR       254\n",
       "HRD      385\n",
       "HRM      385\n",
       "PE       679\n",
       "ZDEN     681\n",
       "DTC     4054\n",
       "DTS     4865\n",
       "dtype: int64"
      ]
     },
     "execution_count": 8,
     "metadata": {},
     "output_type": "execute_result"
    }
   ],
   "source": [
    "train.isnull().sum()"
   ]
  },
  {
   "cell_type": "code",
   "execution_count": 9,
   "metadata": {},
   "outputs": [
    {
     "data": {
      "text/plain": [
       "CAL     0\n",
       "CNC     0\n",
       "GR      0\n",
       "HRD     0\n",
       "HRM     0\n",
       "PE      0\n",
       "ZDEN    0\n",
       "dtype: int64"
      ]
     },
     "execution_count": 9,
     "metadata": {},
     "output_type": "execute_result"
    }
   ],
   "source": [
    "test.isnull().sum()"
   ]
  },
  {
   "cell_type": "code",
   "execution_count": 10,
   "metadata": {},
   "outputs": [
    {
     "data": {
      "image/png": "[encoded data removed]",
      "text/plain": [
       "<Figure size 720x720 with 9 Axes>"
      ]
     },
     "metadata": {
      "needs_background": "light"
     },
     "output_type": "display_data"
    }
   ],
   "source": [
    "train.hist(figsize=(10,10));"
   ]
  },
  {
   "cell_type": "code",
   "execution_count": 11,
   "metadata": {},
   "outputs": [],
   "source": [
    "# For CNC, GR, HRD, HRM and ZDEN, we will fill with previous values in the dataframe\n",
    "train['CNC'].fillna(method='backfill',inplace=True)\n",
    "train['GR'].fillna(method='backfill', inplace=True)\n",
    "train['HRD'].fillna(method='backfill', inplace=True)\n",
    "train['HRM'].fillna(method='backfill', inplace=True)\n",
    "train['ZDEN'].fillna(method='backfill', inplace=True)\n",
    "\n",
    "# For CAL, DTC, DTS and PE, we will fill with the median because of the skewed distribution\n",
    "train['CAL'].fillna(train['CAL'].median(), inplace=True)\n",
    "train['DTC'].fillna(train['DTC'].median(), inplace=True)\n",
    "train['DTS'].fillna(train['DTS'].median(), inplace=True)\n",
    "train['PE'].fillna(train['PE'].median(), inplace=True)"
   ]
  },
  {
   "cell_type": "code",
   "execution_count": 12,
   "metadata": {},
   "outputs": [
    {
     "data": {
      "text/plain": [
       "CAL     0\n",
       "CNC     0\n",
       "GR      0\n",
       "HRD     0\n",
       "HRM     0\n",
       "PE      0\n",
       "ZDEN    0\n",
       "DTC     0\n",
       "DTS     0\n",
       "dtype: int64"
      ]
     },
     "execution_count": 12,
     "metadata": {},
     "output_type": "execute_result"
    }
   ],
   "source": [
    "train.isnull().sum()"
   ]
  },
  {
   "cell_type": "code",
   "execution_count": 13,
   "metadata": {},
   "outputs": [],
   "source": [
    "### Feature Engineering\n",
    "train['NGR']=0+(200-0)*(train['GR']-train['GR'].min())/(train['GR'].max()-train['GR'].min())\n",
    "train['IGR']=(train['NGR']-train['NGR'].min())/(train['NGR'].max()-train['NGR'].min())\n",
    "\n",
    "test['NGR']=0+(200-0)*(test['GR']-test['GR'].min())/(test['GR'].max()-test['GR'].min())\n",
    "test['IGR']=(test['NGR']-test['NGR'].min())/(test['NGR'].max()-test['NGR'].min())\n",
    "\n",
    "# Data transformation\n",
    "train['HRD']=np.log10(train['HRD'])\n",
    "test['HRD']=np.log10(test['HRD'])\n",
    "\n",
    "# Reduce redunance\n",
    "train.drop(columns=['GR'], inplace=True)\n",
    "test.drop(columns=['GR'], inplace=True)"
   ]
  },
  {
   "cell_type": "code",
   "execution_count": 14,
   "metadata": {},
   "outputs": [],
   "source": [
    "X,y=train[['CAL', 'CNC', 'HRD', 'HRM', 'PE', 'ZDEN','IGR','NGR']],train[['DTC', 'DTS']]\n",
    "X_train, X_test, y_train, y_test = train_test_split(X, y, test_size=0.3, random_state=42)"
   ]
  },
  {
   "cell_type": "code",
   "execution_count": 15,
   "metadata": {},
   "outputs": [],
   "source": [
    "scaler = StandardScaler()\n",
    "scaler.fit(X_train)\n",
    "\n",
    "X_train = scaler.transform(X_train)\n",
    "X_test = scaler.transform(X_test)"
   ]
  },
  {
   "cell_type": "code",
   "execution_count": 16,
   "metadata": {},
   "outputs": [],
   "source": [
    "# Parameter tuning procedures\n",
    "### It is heavily time expensive \n",
    "\n",
    "# xg_reg = (XGBRegressor())\n",
    "# gsearch1=RandomizedSearchCV(estimator=MultiOutputRegressor(xg_reg),scoring='neg_mean_squared_error',param_distributions=param_test1,n_jobs=-1,iid=False, cv=5,random_state=123456)\n",
    "# gsearch1.fit(X_train,y_train)\n",
    "# gsearch1.cv_results_,gsearch1.best_params_,gsearch1.best_score_"
   ]
  },
  {
   "cell_type": "code",
   "execution_count": 17,
   "metadata": {},
   "outputs": [],
   "source": [
    "xgb_reg = MultiOutputRegressor(XGBRegressor(colsample_bytree= 0.8,\n",
    "gamma= 0.1,\n",
    "  learning_rate= 0.1,\n",
    "  max_depth= 8,\n",
    "  min_child_weight= 2,\n",
    "  n_estimators= 100,\n",
    "  nthread= 4,\n",
    "  objective= 'reg:squarederror',\n",
    "  scale_pos_weight= 1,\n",
    "  seed= 27,\n",
    "  subsample= 0.8, random_state=42))"
   ]
  },
  {
   "cell_type": "code",
   "execution_count": 18,
   "metadata": {},
   "outputs": [
    {
     "data": {
      "text/plain": [
       "MultiOutputRegressor(estimator=XGBRegressor(colsample_bytree=0.8, gamma=0.1,\n",
       "                                            max_depth=8, min_child_weight=2,\n",
       "                                            nthread=4,\n",
       "                                            objective='reg:squarederror',\n",
       "                                            random_state=42, seed=27,\n",
       "                                            subsample=0.8))"
      ]
     },
     "execution_count": 18,
     "metadata": {},
     "output_type": "execute_result"
    }
   ],
   "source": [
    "xgb_reg.fit(X_train,y_train)"
   ]
  },
  {
   "cell_type": "code",
   "execution_count": 19,
   "metadata": {},
   "outputs": [],
   "source": [
    "predict=xgb_reg.predict(X_test)"
   ]
  },
  {
   "cell_type": "code",
   "execution_count": 20,
   "metadata": {},
   "outputs": [
    {
     "name": "stdout",
     "output_type": "stream",
     "text": [
      "RMSE: 16.245675\n"
     ]
    }
   ],
   "source": [
    "rmse = np.sqrt(mean_squared_error(y_test, predict))\n",
    "print(\"RMSE: %f\" % (rmse))"
   ]
  },
  {
   "cell_type": "code",
   "execution_count": 21,
   "metadata": {},
   "outputs": [],
   "source": [
    "final_predict=xgb_reg.predict(test)\n",
    "result=pd.DataFrame({'DTC': [x[0] for x in final_predict],'DTS':[x[1] for x in final_predict]})"
   ]
  },
  {
   "cell_type": "code",
   "execution_count": 22,
   "metadata": {},
   "outputs": [
    {
     "data": {
      "text/html": [
       "<div>\n",
       "<style scoped>\n",
       "    .dataframe tbody tr th:only-of-type {\n",
       "        vertical-align: middle;\n",
       "    }\n",
       "\n",
       "    .dataframe tbody tr th {\n",
       "        vertical-align: top;\n",
       "    }\n",
       "\n",
       "    .dataframe thead th {\n",
       "        text-align: right;\n",
       "    }\n",
       "</style>\n",
       "<table border=\"1\" class=\"dataframe\">\n",
       "  <thead>\n",
       "    <tr style=\"text-align: right;\">\n",
       "      <th></th>\n",
       "      <th>DTC</th>\n",
       "      <th>DTS</th>\n",
       "    </tr>\n",
       "  </thead>\n",
       "  <tbody>\n",
       "    <tr>\n",
       "      <th>0</th>\n",
       "      <td>94.164818</td>\n",
       "      <td>276.218842</td>\n",
       "    </tr>\n",
       "    <tr>\n",
       "      <th>1</th>\n",
       "      <td>94.164818</td>\n",
       "      <td>276.218842</td>\n",
       "    </tr>\n",
       "    <tr>\n",
       "      <th>2</th>\n",
       "      <td>93.695984</td>\n",
       "      <td>276.218842</td>\n",
       "    </tr>\n",
       "    <tr>\n",
       "      <th>3</th>\n",
       "      <td>93.695984</td>\n",
       "      <td>276.218842</td>\n",
       "    </tr>\n",
       "    <tr>\n",
       "      <th>4</th>\n",
       "      <td>93.656807</td>\n",
       "      <td>276.218842</td>\n",
       "    </tr>\n",
       "  </tbody>\n",
       "</table>\n",
       "</div>"
      ],
      "text/plain": [
       "         DTC         DTS\n",
       "0  94.164818  276.218842\n",
       "1  94.164818  276.218842\n",
       "2  93.695984  276.218842\n",
       "3  93.695984  276.218842\n",
       "4  93.656807  276.218842"
      ]
     },
     "execution_count": 22,
     "metadata": {},
     "output_type": "execute_result"
    }
   ],
   "source": [
    "result.head()"
   ]
  },
  {
   "cell_type": "code",
   "execution_count": null,
   "metadata": {},
   "outputs": [],
   "source": []
  }
 ],
 "metadata": {
  "kernelspec": {
   "display_name": "Python 3",
   "language": "python",
   "name": "python3"
  },
  "language_info": {
   "codemirror_mode": {
    "name": "ipython",
    "version": 3
   },
   "file_extension": ".py",
   "mimetype": "text/x-python",
   "name": "python",
   "nbconvert_exporter": "python",
   "pygments_lexer": "ipython3",
   "version": "3.7.3"
  }
 },
 "nbformat": 4,
 "nbformat_minor": 4
}
